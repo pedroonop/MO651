{
 "cells": [
  {
   "cell_type": "code",
   "execution_count": 1,
   "metadata": {},
   "outputs": [],
   "source": [
    "import sys, time, random, math, os\n",
    "import numpy as np\n",
    "\n",
    "sys.path.insert(0, '../src')\n",
    "from robot import Robot"
   ]
  },
  {
   "cell_type": "code",
   "execution_count": 2,
   "metadata": {},
   "outputs": [],
   "source": [
    "N_STATE_AO = 2**2\n",
    "actions_ao = np.array([(3,3), (1,-1), (-1,1)])\n",
    "\n",
    "dimensions = (N_STATE_AO, len(actions_ao))\n",
    "\n",
    "path = \"Q_matrix_ao.txt\"\n",
    "on_disk = path in os.listdir()\n",
    "\n",
    "if on_disk:\n",
    "    f = open(path, \"r\")\n",
    "    \n",
    "    t = f.read().split()\n",
    "    iterations = int(t[0])\n",
    "    random_rate = float(t[1])\n",
    "    learning_rate = float(t[2])\n",
    "    \n",
    "    Q = np.reshape(np.array([float(i) for i in t[3:]]), dimensions)\n",
    "\n",
    "    f.close()\n",
    "else:\n",
    "    iterations = 0\n",
    "    random_rate = 0.9\n",
    "    learning_rate = 0.6\n",
    "    Q = np.zeros(dimensions)"
   ]
  },
  {
   "cell_type": "code",
   "execution_count": 3,
   "metadata": {},
   "outputs": [],
   "source": [
    "def get_state_avoid_obstacle(us_distances):\n",
    "    threshold = 0.7\n",
    "    r = 0\n",
    "    r += 1 * us_distances[3] <= threshold\n",
    "    r += 2 * us_distances[4] <= threshold\n",
    "    \n",
    "    return r\n",
    "\n",
    "def get_action_avoid_obstacle(Q, state, random_rate):\n",
    "    a = random.random()\n",
    "    if a < random_rate:\n",
    "        i = random.randint(0, len(actions_ao) - 1)\n",
    "    else:\n",
    "        i = 0\n",
    "        for j in range(len(actions_ao)):\n",
    "            if Q[state][j] > Q[state][i]:\n",
    "                i = j\n",
    "    return i\n",
    "\n",
    "def get_reward_avoid_obstacle(curve, us_distances, new_us_distances):\n",
    "    threshold = 0.1\n",
    "    delta_l = new_us_distances[3] - us_distances[3]\n",
    "    delta_r = new_us_distances[4] - us_distances[4]\n",
    "    return 100 * (delta_l + delta_r) + 100 * (not curve) - 1000 * (new_us_distances[3] <= threshold or new_us_distances[4])\n"
   ]
  },
  {
   "cell_type": "code",
   "execution_count": 4,
   "metadata": {},
   "outputs": [
    {
     "name": "stdout",
     "output_type": "stream",
     "text": [
      "Connected to remoteApi server.\n",
      "\u001b[92m Pioneer_p3dx_ultrasonicSensor1#0 connected.\n",
      "\u001b[92m Pioneer_p3dx_ultrasonicSensor2#0 connected.\n",
      "\u001b[92m Pioneer_p3dx_ultrasonicSensor3#0 connected.\n",
      "\u001b[92m Pioneer_p3dx_ultrasonicSensor4#0 connected.\n",
      "\u001b[92m Pioneer_p3dx_ultrasonicSensor5#0 connected.\n",
      "\u001b[92m Pioneer_p3dx_ultrasonicSensor6#0 connected.\n",
      "\u001b[92m Pioneer_p3dx_ultrasonicSensor7#0 connected.\n",
      "\u001b[92m Pioneer_p3dx_ultrasonicSensor8#0 connected.\n",
      "\u001b[92m Pioneer_p3dx_ultrasonicSensor9#0 connected.\n",
      "\u001b[92m Pioneer_p3dx_ultrasonicSensor10#0 connected.\n",
      "\u001b[92m Pioneer_p3dx_ultrasonicSensor11#0 connected.\n",
      "\u001b[92m Pioneer_p3dx_ultrasonicSensor12#0 connected.\n",
      "\u001b[92m Pioneer_p3dx_ultrasonicSensor13#0 connected.\n",
      "\u001b[92m Pioneer_p3dx_ultrasonicSensor14#0 connected.\n",
      "\u001b[92m Pioneer_p3dx_ultrasonicSensor15#0 connected.\n",
      "\u001b[92m Pioneer_p3dx_ultrasonicSensor16#0 connected.\n",
      "\u001b[92m Vision sensor connected.\n",
      "\u001b[92m Laser connected.\n",
      "\u001b[92m Left motor connected.\n",
      "\u001b[92m Right motor connected.\n",
      "\u001b[92m Robot connected.\n"
     ]
    },
    {
     "ename": "KeyboardInterrupt",
     "evalue": "",
     "output_type": "error",
     "traceback": [
      "\u001b[0;31m---------------------------------------------------------------------------\u001b[0m",
      "\u001b[0;31mKeyboardInterrupt\u001b[0m                         Traceback (most recent call last)",
      "\u001b[0;32m<ipython-input-4-a598c412d1c8>\u001b[0m in \u001b[0;36m<module>\u001b[0;34m\u001b[0m\n\u001b[1;32m      4\u001b[0m \u001b[0;34m\u001b[0m\u001b[0m\n\u001b[1;32m      5\u001b[0m \u001b[0;32mwhile\u001b[0m \u001b[0mrobot\u001b[0m\u001b[0;34m.\u001b[0m\u001b[0mget_connection_status\u001b[0m\u001b[0;34m(\u001b[0m\u001b[0;34m)\u001b[0m \u001b[0;34m!=\u001b[0m \u001b[0;34m-\u001b[0m\u001b[0;36m1\u001b[0m \u001b[0;32mand\u001b[0m \u001b[0miterations\u001b[0m \u001b[0;34m<\u001b[0m \u001b[0mmax_iterations\u001b[0m\u001b[0;34m:\u001b[0m\u001b[0;34m\u001b[0m\u001b[0;34m\u001b[0m\u001b[0m\n\u001b[0;32m----> 6\u001b[0;31m     \u001b[0mus_distances\u001b[0m \u001b[0;34m=\u001b[0m \u001b[0mrobot\u001b[0m\u001b[0;34m.\u001b[0m\u001b[0mread_ultrassonic_sensors\u001b[0m\u001b[0;34m(\u001b[0m\u001b[0;34m)\u001b[0m\u001b[0;34m\u001b[0m\u001b[0;34m\u001b[0m\u001b[0m\n\u001b[0m\u001b[1;32m      7\u001b[0m \u001b[0;34m\u001b[0m\u001b[0m\n\u001b[1;32m      8\u001b[0m     \u001b[0mstate\u001b[0m \u001b[0;34m=\u001b[0m \u001b[0mget_state_avoid_obstacle\u001b[0m\u001b[0;34m(\u001b[0m\u001b[0mus_distances\u001b[0m\u001b[0;34m)\u001b[0m\u001b[0;34m\u001b[0m\u001b[0;34m\u001b[0m\u001b[0m\n",
      "\u001b[0;32m~/git/MO651/P4/src/robot.py\u001b[0m in \u001b[0;36mread_ultrassonic_sensors\u001b[0;34m(self)\u001b[0m\n\u001b[1;32m    136\u001b[0m                         \u001b[0mres\u001b[0m\u001b[0;34m,\u001b[0m \u001b[0mstatus\u001b[0m\u001b[0;34m,\u001b[0m \u001b[0mdistance\u001b[0m\u001b[0;34m,\u001b[0m\u001b[0m_\u001b[0m\u001b[0;34m,\u001b[0m\u001b[0m_\u001b[0m \u001b[0;34m=\u001b[0m \u001b[0mvrep\u001b[0m\u001b[0;34m.\u001b[0m\u001b[0msimxReadProximitySensor\u001b[0m\u001b[0;34m(\u001b[0m\u001b[0mself\u001b[0m\u001b[0;34m.\u001b[0m\u001b[0mclientID\u001b[0m\u001b[0;34m,\u001b[0m \u001b[0msensor\u001b[0m\u001b[0;34m,\u001b[0m \u001b[0mvrep\u001b[0m\u001b[0;34m.\u001b[0m\u001b[0msimx_opmode_streaming\u001b[0m\u001b[0;34m)\u001b[0m\u001b[0;34m\u001b[0m\u001b[0;34m\u001b[0m\u001b[0m\n\u001b[1;32m    137\u001b[0m                         \u001b[0;32mwhile\u001b[0m\u001b[0;34m(\u001b[0m\u001b[0mres\u001b[0m \u001b[0;34m!=\u001b[0m \u001b[0mvrep\u001b[0m\u001b[0;34m.\u001b[0m\u001b[0msimx_return_ok\u001b[0m\u001b[0;34m)\u001b[0m\u001b[0;34m:\u001b[0m\u001b[0;34m\u001b[0m\u001b[0;34m\u001b[0m\u001b[0m\n\u001b[0;32m--> 138\u001b[0;31m                                 \u001b[0mres\u001b[0m\u001b[0;34m,\u001b[0m \u001b[0mstatus\u001b[0m\u001b[0;34m,\u001b[0m \u001b[0mdistance\u001b[0m\u001b[0;34m,\u001b[0m\u001b[0m_\u001b[0m\u001b[0;34m,\u001b[0m\u001b[0m_\u001b[0m \u001b[0;34m=\u001b[0m \u001b[0mvrep\u001b[0m\u001b[0;34m.\u001b[0m\u001b[0msimxReadProximitySensor\u001b[0m\u001b[0;34m(\u001b[0m\u001b[0mself\u001b[0m\u001b[0;34m.\u001b[0m\u001b[0mclientID\u001b[0m\u001b[0;34m,\u001b[0m \u001b[0msensor\u001b[0m\u001b[0;34m,\u001b[0m \u001b[0mvrep\u001b[0m\u001b[0;34m.\u001b[0m\u001b[0msimx_opmode_buffer\u001b[0m\u001b[0;34m)\u001b[0m\u001b[0;34m\u001b[0m\u001b[0;34m\u001b[0m\u001b[0m\n\u001b[0m\u001b[1;32m    139\u001b[0m \u001b[0;34m\u001b[0m\u001b[0m\n\u001b[1;32m    140\u001b[0m                         \u001b[0;32mif\u001b[0m\u001b[0;34m(\u001b[0m\u001b[0mstatus\u001b[0m \u001b[0;34m!=\u001b[0m \u001b[0;36m0\u001b[0m\u001b[0;34m)\u001b[0m\u001b[0;34m:\u001b[0m\u001b[0;34m\u001b[0m\u001b[0;34m\u001b[0m\u001b[0m\n",
      "\u001b[0;32m~/git/MO651/P4/lib/vrep.py\u001b[0m in \u001b[0;36msimxReadProximitySensor\u001b[0;34m(clientID, sensorHandle, operationMode)\u001b[0m\n\u001b[1;32m    334\u001b[0m     \u001b[0mdetectedPoint\u001b[0m  \u001b[0;34m=\u001b[0m \u001b[0;34m(\u001b[0m\u001b[0mct\u001b[0m\u001b[0;34m.\u001b[0m\u001b[0mc_float\u001b[0m\u001b[0;34m*\u001b[0m\u001b[0;36m3\u001b[0m\u001b[0;34m)\u001b[0m\u001b[0;34m(\u001b[0m\u001b[0;34m)\u001b[0m\u001b[0;34m\u001b[0m\u001b[0;34m\u001b[0m\u001b[0m\n\u001b[1;32m    335\u001b[0m     \u001b[0mdetectedSurfaceNormalVector\u001b[0m \u001b[0;34m=\u001b[0m \u001b[0;34m(\u001b[0m\u001b[0mct\u001b[0m\u001b[0;34m.\u001b[0m\u001b[0mc_float\u001b[0m\u001b[0;34m*\u001b[0m\u001b[0;36m3\u001b[0m\u001b[0;34m)\u001b[0m\u001b[0;34m(\u001b[0m\u001b[0;34m)\u001b[0m\u001b[0;34m\u001b[0m\u001b[0;34m\u001b[0m\u001b[0m\n\u001b[0;32m--> 336\u001b[0;31m     \u001b[0mret\u001b[0m \u001b[0;34m=\u001b[0m \u001b[0mc_ReadProximitySensor\u001b[0m\u001b[0;34m(\u001b[0m\u001b[0mclientID\u001b[0m\u001b[0;34m,\u001b[0m \u001b[0msensorHandle\u001b[0m\u001b[0;34m,\u001b[0m \u001b[0mct\u001b[0m\u001b[0;34m.\u001b[0m\u001b[0mbyref\u001b[0m\u001b[0;34m(\u001b[0m\u001b[0mdetectionState\u001b[0m\u001b[0;34m)\u001b[0m\u001b[0;34m,\u001b[0m \u001b[0mdetectedPoint\u001b[0m\u001b[0;34m,\u001b[0m \u001b[0mct\u001b[0m\u001b[0;34m.\u001b[0m\u001b[0mbyref\u001b[0m\u001b[0;34m(\u001b[0m\u001b[0mdetectedObjectHandle\u001b[0m\u001b[0;34m)\u001b[0m\u001b[0;34m,\u001b[0m \u001b[0mdetectedSurfaceNormalVector\u001b[0m\u001b[0;34m,\u001b[0m \u001b[0moperationMode\u001b[0m\u001b[0;34m)\u001b[0m\u001b[0;34m\u001b[0m\u001b[0;34m\u001b[0m\u001b[0m\n\u001b[0m\u001b[1;32m    337\u001b[0m     \u001b[0marr1\u001b[0m \u001b[0;34m=\u001b[0m \u001b[0;34m[\u001b[0m\u001b[0;34m]\u001b[0m\u001b[0;34m\u001b[0m\u001b[0;34m\u001b[0m\u001b[0m\n\u001b[1;32m    338\u001b[0m     \u001b[0;32mfor\u001b[0m \u001b[0mi\u001b[0m \u001b[0;32min\u001b[0m \u001b[0mrange\u001b[0m\u001b[0;34m(\u001b[0m\u001b[0;36m3\u001b[0m\u001b[0;34m)\u001b[0m\u001b[0;34m:\u001b[0m\u001b[0;34m\u001b[0m\u001b[0;34m\u001b[0m\u001b[0m\n",
      "\u001b[0;31mKeyboardInterrupt\u001b[0m: "
     ]
    }
   ],
   "source": [
    "robot = Robot(\"#0\")\n",
    "\n",
    "max_iterations = 1000000\n",
    "\n",
    "while robot.get_connection_status() != -1 and iterations < max_iterations:\n",
    "    us_distances = robot.read_ultrassonic_sensors()\n",
    "    \n",
    "    state = get_state_avoid_obstacle(us_distances)\n",
    "    \n",
    "    i = get_action_avoid_obstacle(Q, state, random_rate)\n",
    "    \n",
    "    robot.set_left_velocity(actions_ao[i][0])\n",
    "    robot.set_right_velocity(actions_ao[i][1])\n",
    "    time.sleep(3)\n",
    "    robot.set_left_velocity(0)\n",
    "    robot.set_right_velocity(0)\n",
    "    \n",
    "    new_us_distances = robot.read_ultrassonic_sensors()    \n",
    "\n",
    "    reward = get_reward_avoid_obstacle(actions_ao[i][0] != actions_ao[i][1], us_distances, new_us_distances)\n",
    "    \n",
    "    print(\"state: \" + str(state) + \" action: \" + str(i) + \" reward: \" + str(reward))\n",
    "    \n",
    "    best_q = np.amax(Q[state])\n",
    "\n",
    "    Q[state][i] = learning_rate * (reward + 0.99 * best_q - Q[state][i])\n",
    "    \n",
    "    random_rate = max(0.1, random_rate * 0.9995)\n",
    "    learning_rate = max(0.1, learning_rate * 0.9999)\n",
    "\n",
    "    f = open(path, \"w\")\n",
    "    f.write(str(iterations) + \"\\n\")\n",
    "    f.write(str(random_rate) + \"\\n\")\n",
    "    f.write(str(learning_rate) + \"\\n\")\n",
    "\n",
    "    for q in Q:\n",
    "        for j in q:\n",
    "            f.write(str(j) + \" \")\n",
    "        f.write(\"\\n\")\n",
    "    f.close()\n",
    "\n",
    "    iterations += 1"
   ]
  }
 ],
 "metadata": {
  "kernelspec": {
   "display_name": "Python 3",
   "language": "python",
   "name": "python3"
  },
  "language_info": {
   "codemirror_mode": {
    "name": "ipython",
    "version": 3
   },
   "file_extension": ".py",
   "mimetype": "text/x-python",
   "name": "python",
   "nbconvert_exporter": "python",
   "pygments_lexer": "ipython3",
   "version": "3.7.3"
  }
 },
 "nbformat": 4,
 "nbformat_minor": 2
}
