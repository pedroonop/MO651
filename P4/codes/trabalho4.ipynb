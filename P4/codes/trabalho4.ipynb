{
 "cells": [
  {
   "cell_type": "markdown",
   "metadata": {},
   "source": [
    "# MO651 - Robótica Móvel - Trabalho 04\n",
    "### Equipe: \n",
    "* Carlos Victor - RA: 230261\n",
    "* Daiane Mendes - RA: 230210\n",
    "* João Paulo - RA: 230221\n",
    "* Pedro Olímpio - RA: 230256\n",
    "\n",
    "\n",
    "## Introdução"
   ]
  },
  {
   "cell_type": "code",
   "execution_count": 2,
   "metadata": {},
   "outputs": [
    {
     "ename": "SystemExit",
     "evalue": "\u001b[91m ERROR: Unable to connect to remoteApi server. Consider running scene before executing script.",
     "output_type": "error",
     "traceback": [
      "An exception has occurred, use %tb to see the full traceback.\n",
      "\u001b[0;31mSystemExit\u001b[0m\u001b[0;31m:\u001b[0m \u001b[91m ERROR: Unable to connect to remoteApi server. Consider running scene before executing script.\n"
     ]
    },
    {
     "name": "stderr",
     "output_type": "stream",
     "text": [
      "/home/pedro/anaconda3/lib/python3.7/site-packages/IPython/core/interactiveshell.py:3334: UserWarning: To exit: use 'exit', 'quit', or Ctrl-D.\n",
      "  warn(\"To exit: use 'exit', 'quit', or Ctrl-D.\", stacklevel=1)\n"
     ]
    }
   ],
   "source": [
    "import sys, time, random, math, cv2\n",
    "import numpy as np\n",
    "from matplotlib import pyplot as plt\n",
    "import skfuzzy as fuzz\n",
    "from skfuzzy import control as ctrl\n",
    "\n",
    "sys.path.insert(0, '../src')\n",
    "from robot import Robot\n",
    "\n",
    "def walk(left_velocity, right_velocity, time_to_walk, robot):\n",
    "    robot.set_left_velocity(left_velocity)\n",
    "    robot.set_right_velocity(right_velocity)\n",
    "\n",
    "robot1 = Robot(\"\")\n",
    "robot2 = Robot(\"#0\")\n",
    "\n",
    "while (robot1.get_connection_status() != -1):\n",
    "    us_distances = robot1.read_ultrassonic_sensors()\n",
    "    walk(5, 4, 3, robot1)\n",
    "    \n",
    "    us_distances = robot2.read_ultrassonic_sensors()\n",
    "    walk(4, 5, 3, robot2)"
   ]
  }
 ],
 "metadata": {
  "colab": {
   "collapsed_sections": [
    "y67tHqDsYXIb",
    "BvAkMvB8Ybj7",
    "ExpKqXyShsML",
    "K1nCWEI6lCfQ",
    "yadl9LG0sew7",
    "eOu-6EpnuaMz",
    "ozy3LwXUzVBv"
   ],
   "name": "trabalho1.ipynb",
   "provenance": []
  },
  "kernelspec": {
   "display_name": "Python 3",
   "language": "python",
   "name": "python3"
  },
  "language_info": {
   "codemirror_mode": {
    "name": "ipython",
    "version": 3
   },
   "file_extension": ".py",
   "mimetype": "text/x-python",
   "name": "python",
   "nbconvert_exporter": "python",
   "pygments_lexer": "ipython3",
   "version": "3.7.3"
  }
 },
 "nbformat": 4,
 "nbformat_minor": 1
}
