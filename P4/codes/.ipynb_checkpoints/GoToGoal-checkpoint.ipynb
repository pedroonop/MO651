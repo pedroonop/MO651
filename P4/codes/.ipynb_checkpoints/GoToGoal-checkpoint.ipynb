{
 "cells": [
  {
   "cell_type": "code",
   "execution_count": 1,
   "metadata": {},
   "outputs": [],
   "source": [
    "import sys, time, random, math, cv2, os\n",
    "import numpy as np\n",
    "\n",
    "sys.path.insert(0, '../src')\n",
    "from robot import Robot"
   ]
  },
  {
   "cell_type": "code",
   "execution_count": 9,
   "metadata": {},
   "outputs": [],
   "source": [
    "N_STATE_GTG = 12\n",
    "actions_gtg = np.array([(10,10), (1,-1), (-1,1)])\n",
    "\n",
    "dimensions = (N_STATE, len(actions))\n",
    "\n",
    "path = \"Q_matrix_gtg.txt\"\n",
    "on_disk = path in os.listdir()\n",
    "\n",
    "if on_disk:\n",
    "    f = open(path, \"r\")\n",
    "    \n",
    "    t = f.read().split()\n",
    "    iterations = int(t[0])\n",
    "    random_rate = float(t[1])\n",
    "    learning_rate = float(t[2])\n",
    "    \n",
    "    Q = np.reshape(np.array([float(i) for i in t[3:]]), dimensions)\n",
    "\n",
    "    f.close()\n",
    "else:\n",
    "    random_rate = 0.9\n",
    "    learning_rate = 0.6\n",
    "    Q = np.zeros(dimensions)"
   ]
  },
  {
   "cell_type": "code",
   "execution_count": 10,
   "metadata": {},
   "outputs": [],
   "source": [
    "def cicle(ang):\n",
    "    return (ang + 2 * math.pi) % (2*math.pi)\n",
    "\n",
    "def get_distance_from_goal(a,b):\n",
    "    return np.linalg.norm(a-b)\n",
    "\n",
    "def get_angular_distance(v1,v2):\n",
    "\n",
    "    v1_aux = v1 / np.linalg.norm(v1)\n",
    "    v2_aux = v2 / np.linalg.norm(v2)\n",
    "\n",
    "    theta = np.arccos(np.clip(np.dot(v1_aux, v2_aux), -1.0, 1.0))\n",
    "    rot_theta = np.array([[np.cos(theta),-np.sin(theta)],[np.sin(theta),np.cos(theta)]])\n",
    "    theta = theta*180.0/math.pi\n",
    "    theta = (360.0+theta)%360.0\n",
    "\n",
    "    if abs(np.dot(np.dot(rot_theta,v2_aux),v1_aux)-1.0) > 1e-2:\n",
    "        theta = 360.0 - theta\n",
    "\n",
    "    return theta\n",
    "\n",
    "def get_state_go_to_goal(current_position, current_angle, goal):\n",
    "    angle_distance = get_angular_distance(goal - current_position, np.array([math.cos(current_angle),math.sin(current_angle)]))\n",
    "    if angle_distance <= (180 / N_STATE) or angle_distance >= (360 - (180 / N_STATE)):\n",
    "        r = 0\n",
    "    else:\n",
    "        r = (angle_distance - (180 / N_STATE)) / (360 / N_STATE) + 1\n",
    "    return r\n",
    "\n",
    "\n",
    "    "
   ]
  },
  {
   "cell_type": "code",
   "execution_count": null,
   "metadata": {},
   "outputs": [],
   "source": [
    "robot = Robot(\"#0\")\n",
    "goal = np.array([13,0])\n",
    "while robot.get_connection_status() != -1:\n",
    "    current_position = np.array(robot.get_current_position()[:-1])\n",
    "    current_angle = robot.get_current_orientation()[2]\n",
    "    print(get_state_go_to_goal())"
   ]
  }
 ],
 "metadata": {
  "kernelspec": {
   "display_name": "Python 3",
   "language": "python",
   "name": "python3"
  },
  "language_info": {
   "codemirror_mode": {
    "name": "ipython",
    "version": 3
   },
   "file_extension": ".py",
   "mimetype": "text/x-python",
   "name": "python",
   "nbconvert_exporter": "python",
   "pygments_lexer": "ipython3",
   "version": "3.7.3"
  }
 },
 "nbformat": 4,
 "nbformat_minor": 2
}
