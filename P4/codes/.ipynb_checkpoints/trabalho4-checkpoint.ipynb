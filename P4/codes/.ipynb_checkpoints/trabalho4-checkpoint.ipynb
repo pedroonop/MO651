{
 "cells": [
  {
   "cell_type": "markdown",
   "metadata": {},
   "source": [
    "# MO651 - Robótica Móvel - Trabalho 04\n",
    "### Equipe: \n",
    "* Carlos Victor - RA: 230261\n",
    "* Daiane Mendes - RA: 230210\n",
    "* João Paulo - RA: 230221\n",
    "* Pedro Olímpio - RA: 230256\n",
    "\n",
    "\n",
    "## Introdução"
   ]
  },
  {
   "cell_type": "code",
   "execution_count": null,
   "metadata": {},
   "outputs": [
    {
     "name": "stdout",
     "output_type": "stream",
     "text": [
      "Connected to remoteApi server.\n",
      "\u001b[92m Pioneer_p3dx_ultrasonicSensor1 connected.\n",
      "\u001b[92m Pioneer_p3dx_ultrasonicSensor2 connected.\n",
      "\u001b[92m Pioneer_p3dx_ultrasonicSensor3 connected.\n",
      "\u001b[92m Pioneer_p3dx_ultrasonicSensor4 connected.\n",
      "\u001b[92m Pioneer_p3dx_ultrasonicSensor5 connected.\n",
      "\u001b[92m Pioneer_p3dx_ultrasonicSensor6 connected.\n",
      "\u001b[92m Pioneer_p3dx_ultrasonicSensor7 connected.\n",
      "\u001b[92m Pioneer_p3dx_ultrasonicSensor8 connected.\n",
      "\u001b[92m Pioneer_p3dx_ultrasonicSensor9 connected.\n",
      "\u001b[92m Pioneer_p3dx_ultrasonicSensor10 connected.\n",
      "\u001b[92m Pioneer_p3dx_ultrasonicSensor11 connected.\n",
      "\u001b[92m Pioneer_p3dx_ultrasonicSensor12 connected.\n",
      "\u001b[92m Pioneer_p3dx_ultrasonicSensor13 connected.\n",
      "\u001b[92m Pioneer_p3dx_ultrasonicSensor14 connected.\n",
      "\u001b[92m Pioneer_p3dx_ultrasonicSensor15 connected.\n",
      "\u001b[92m Pioneer_p3dx_ultrasonicSensor16 connected.\n",
      "\u001b[92m Vision sensor connected.\n",
      "\u001b[92m Laser connected.\n",
      "\u001b[92m Left motor connected.\n",
      "\u001b[92m Right motor connected.\n",
      "\u001b[92m Robot connected.\n",
      "Connected to remoteApi server.\n",
      "\u001b[93m Pioneer2_p3dx_ultrasonicSensor1 not connected.\n",
      "\u001b[93m Pioneer2_p3dx_ultrasonicSensor2 not connected.\n",
      "\u001b[93m Pioneer2_p3dx_ultrasonicSensor3 not connected.\n",
      "\u001b[93m Pioneer2_p3dx_ultrasonicSensor4 not connected.\n",
      "\u001b[93m Pioneer2_p3dx_ultrasonicSensor5 not connected.\n",
      "\u001b[93m Pioneer2_p3dx_ultrasonicSensor6 not connected.\n",
      "\u001b[93m Pioneer2_p3dx_ultrasonicSensor7 not connected.\n",
      "\u001b[93m Pioneer2_p3dx_ultrasonicSensor8 not connected.\n",
      "\u001b[93m Pioneer2_p3dx_ultrasonicSensor9 not connected.\n",
      "\u001b[93m Pioneer2_p3dx_ultrasonicSensor10 not connected.\n",
      "\u001b[93m Pioneer2_p3dx_ultrasonicSensor11 not connected.\n",
      "\u001b[93m Pioneer2_p3dx_ultrasonicSensor12 not connected.\n",
      "\u001b[93m Pioneer2_p3dx_ultrasonicSensor13 not connected.\n",
      "\u001b[93m Pioneer2_p3dx_ultrasonicSensor14 not connected.\n",
      "\u001b[93m Pioneer2_p3dx_ultrasonicSensor15 not connected.\n",
      "\u001b[93m Pioneer2_p3dx_ultrasonicSensor16 not connected.\n",
      "\u001b[92m Vision sensor connected.\n",
      "\u001b[92m Laser connected.\n",
      "\u001b[93m Left motor not connected.\n",
      "\u001b[93m Right motor not connected.\n",
      "\u001b[92m Robot connected.\n"
     ]
    }
   ],
   "source": [
    "import sys, time, random, math, cv2\n",
    "import numpy as np\n",
    "from matplotlib import pyplot as plt\n",
    "import skfuzzy as fuzz\n",
    "from skfuzzy import control as ctrl\n",
    "\n",
    "sys.path.insert(0, '../src')\n",
    "from robot import Robot\n",
    "\n",
    "def walk(left_velocity, right_velocity, time_to_walk, robot):\n",
    "    robot.set_left_velocity(left_velocity)\n",
    "    robot.set_right_velocity(right_velocity)\n",
    "\n",
    "robot1 = Robot(\")\n",
    "robot2 = Robot(\"#0\")\n",
    "\n",
    "while (robot1.get_connection_status() != -1):\n",
    "    us_distances = robot1.read_ultrassonic_sensors()\n",
    "    walk(5, 5, 3, robot1)\n",
    "    \n",
    "    us_distances = robot2.read_ultrassonic_sensors()\n",
    "    walk(5, 5, 3, robot2)"
   ]
  }
 ],
 "metadata": {
  "colab": {
   "collapsed_sections": [
    "y67tHqDsYXIb",
    "BvAkMvB8Ybj7",
    "ExpKqXyShsML",
    "K1nCWEI6lCfQ",
    "yadl9LG0sew7",
    "eOu-6EpnuaMz",
    "ozy3LwXUzVBv"
   ],
   "name": "trabalho1.ipynb",
   "provenance": []
  },
  "kernelspec": {
   "display_name": "Python 3",
   "language": "python",
   "name": "python3"
  },
  "language_info": {
   "codemirror_mode": {
    "name": "ipython",
    "version": 3
   },
   "file_extension": ".py",
   "mimetype": "text/x-python",
   "name": "python",
   "nbconvert_exporter": "python",
   "pygments_lexer": "ipython3",
   "version": "3.7.3"
  }
 },
 "nbformat": 4,
 "nbformat_minor": 1
}
