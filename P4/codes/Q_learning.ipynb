{
 "cells": [
  {
   "cell_type": "code",
   "execution_count": 1,
   "metadata": {},
   "outputs": [],
   "source": [
    "import sys, time, random, math, cv2, os\n",
    "import numpy as np\n",
    "\n",
    "sys.path.insert(0, '../src')\n",
    "from robot import Robot"
   ]
  },
  {
   "cell_type": "code",
   "execution_count": 2,
   "metadata": {},
   "outputs": [],
   "source": [
    "path_gtg = \"Q_matrix_gtg.txt\"\n",
    "path_ao  = \"Q_matrix_ao.txt\"\n",
    "on_disk = path_gtg in os.listdir() and path_ao in os.listdir()\n",
    "\n",
    "actions = np.array([(3,3), (1,-1), (-1,1)])\n",
    "N_STATE_GTG = 120\n",
    "\n",
    "dimensions_gtg = (N_STATE_GTG, len(actions))\n",
    "dimensions_ao = (4, len(actions))\n",
    "\n",
    "if on_disk:\n",
    "    f_gtg = open(path_gtg, \"r\")    \n",
    "    t_gtg = f_gtg.read().split()\n",
    "    _ = float(t_gtg[0])\n",
    "    random_rate_gtg = float(t_gtg[1])\n",
    "    _ = float(t_gtg[2])\n",
    "    Q_gtg = np.reshape(np.array([float(i) for i in t_gtg[3:]]), dimensions_gtg)\n",
    "    f_gtg.close()\n",
    "\n",
    "    f_ao = open(path_ao, \"r\")    \n",
    "    t_ao = f_ao.read().split()\n",
    "    _ = float(t_gtg[0])\n",
    "    random_rate_ao = float(t_ao[1])\n",
    "    _ = float(t_ao[2])\n",
    "    Q_ao = np.reshape(np.array([float(i) for i in t_ao[3:]]), dimensions_ao)\n",
    "    f_ao.close()\n",
    "\n",
    "else:\n",
    "    print(\"Files not found ;(\")\n",
    "    exit(1)\n"
   ]
  },
  {
   "cell_type": "code",
   "execution_count": 3,
   "metadata": {},
   "outputs": [],
   "source": [
    "def cicle(ang):\n",
    "    return (ang + 2 * math.pi) % (2*math.pi)\n",
    "\n",
    "def get_distance_from_goal(a,b):\n",
    "    return np.linalg.norm(a-b)\n",
    "\n",
    "def get_angular_distance(v1,v2):\n",
    "\n",
    "    v1_aux = v1 / np.linalg.norm(v1)\n",
    "    v2_aux = v2 / np.linalg.norm(v2)\n",
    "\n",
    "    theta = np.arccos(np.clip(np.dot(v1_aux, v2_aux), -1.0, 1.0))\n",
    "    rot_theta = np.array([[np.cos(theta),-np.sin(theta)],[np.sin(theta),np.cos(theta)]])\n",
    "    theta = theta*180.0/math.pi\n",
    "    theta = (360.0+theta)%360.0\n",
    "\n",
    "    if abs(np.dot(np.dot(rot_theta,v2_aux),v1_aux)-1.0) > 1e-2:\n",
    "        theta = 360.0 - theta\n",
    "\n",
    "    return theta\n",
    "\n",
    "def get_state_go_to_goal(current_position, current_angle, goal):\n",
    "    angle_distance = get_angular_distance(goal - current_position, np.array([math.cos(current_angle),math.sin(current_angle)]))\n",
    "    if angle_distance <= (180 / N_STATE_GTG) or angle_distance >= (360 - (180 / N_STATE_GTG)):\n",
    "        r = 0\n",
    "    else:\n",
    "        r = (angle_distance - (180 / N_STATE_GTG)) / (360 / N_STATE_GTG) + 1\n",
    "    return int(r)\n",
    "\n",
    "def get_action_go_to_goal(Q, state, random_rate):\n",
    "    a = random.random()\n",
    "    if a < random_rate:\n",
    "        i = random.randint(0, len(actions) - 1)\n",
    "    else:\n",
    "        i = 0\n",
    "        for j in range(len(actions)):\n",
    "            if Q[state][j] > Q[state][i]:\n",
    "                i = j\n",
    "    return i"
   ]
  },
  {
   "cell_type": "code",
   "execution_count": 4,
   "metadata": {},
   "outputs": [],
   "source": [
    "def get_state_avoid_obstacle(us_distances):\n",
    "    threshold = 0.5\n",
    "    r = 0\n",
    "    r += 1 * (us_distances[3] <= threshold)\n",
    "    r += 2 * (us_distances[4] <= threshold)\n",
    "    \n",
    "    return r\n",
    "\n",
    "def get_action_avoid_obstacle(Q, state, random_rate):\n",
    "    a = random.random()\n",
    "    if a < random_rate:\n",
    "        i = random.randint(0, len(actions) - 1)\n",
    "    else:\n",
    "        i = 0\n",
    "        for j in range(len(actions)):\n",
    "            if Q[state][j] > Q[state][i]:\n",
    "                i = j\n",
    "    return i"
   ]
  },
  {
   "cell_type": "code",
   "execution_count": 5,
   "metadata": {
    "scrolled": false
   },
   "outputs": [
    {
     "name": "stdout",
     "output_type": "stream",
     "text": [
      "Connected to remoteApi server.\n"
     ]
    },
    {
     "ename": "KeyboardInterrupt",
     "evalue": "",
     "output_type": "error",
     "traceback": [
      "\u001b[0;31m---------------------------------------------------------------------------\u001b[0m",
      "\u001b[0;31mKeyboardInterrupt\u001b[0m                         Traceback (most recent call last)",
      "\u001b[0;32m<ipython-input-5-aa4d6e495da4>\u001b[0m in \u001b[0;36m<module>\u001b[0;34m\u001b[0m\n\u001b[0;32m----> 1\u001b[0;31m \u001b[0mrobot\u001b[0m \u001b[0;34m=\u001b[0m \u001b[0mRobot\u001b[0m\u001b[0;34m(\u001b[0m\u001b[0;34m\"#0\"\u001b[0m\u001b[0;34m)\u001b[0m\u001b[0;34m\u001b[0m\u001b[0;34m\u001b[0m\u001b[0m\n\u001b[0m\u001b[1;32m      2\u001b[0m \u001b[0;34m\u001b[0m\u001b[0m\n\u001b[1;32m      3\u001b[0m \u001b[0mgoal\u001b[0m \u001b[0;34m=\u001b[0m \u001b[0mnp\u001b[0m\u001b[0;34m.\u001b[0m\u001b[0marray\u001b[0m\u001b[0;34m(\u001b[0m\u001b[0;34m[\u001b[0m\u001b[0;34m(\u001b[0m\u001b[0;36m13\u001b[0m\u001b[0;34m,\u001b[0m\u001b[0;36m0\u001b[0m\u001b[0;34m)\u001b[0m\u001b[0;34m,\u001b[0m \u001b[0;34m(\u001b[0m\u001b[0;34m-\u001b[0m\u001b[0;36m13\u001b[0m\u001b[0;34m,\u001b[0m\u001b[0;36m0\u001b[0m\u001b[0;34m)\u001b[0m\u001b[0;34m]\u001b[0m\u001b[0;34m)\u001b[0m\u001b[0;34m\u001b[0m\u001b[0;34m\u001b[0m\u001b[0m\n\u001b[1;32m      4\u001b[0m \u001b[0mi\u001b[0m \u001b[0;34m=\u001b[0m \u001b[0;36m0\u001b[0m\u001b[0;34m\u001b[0m\u001b[0;34m\u001b[0m\u001b[0m\n\u001b[1;32m      5\u001b[0m \u001b[0;34m\u001b[0m\u001b[0m\n",
      "\u001b[0;32m~/git/MO651/P4/src/robot.py\u001b[0m in \u001b[0;36m__init__\u001b[0;34m(self, id_)\u001b[0m\n\u001b[1;32m     11\u001b[0m                 \u001b[0mself\u001b[0m\u001b[0;34m.\u001b[0m\u001b[0mSERVER_PORT\u001b[0m \u001b[0;34m=\u001b[0m \u001b[0;36m25000\u001b[0m\u001b[0;34m\u001b[0m\u001b[0;34m\u001b[0m\u001b[0m\n\u001b[1;32m     12\u001b[0m                 \u001b[0mself\u001b[0m\u001b[0;34m.\u001b[0m\u001b[0mclientID\u001b[0m \u001b[0;34m=\u001b[0m \u001b[0mself\u001b[0m\u001b[0;34m.\u001b[0m\u001b[0mstart_sim\u001b[0m\u001b[0;34m(\u001b[0m\u001b[0;34m)\u001b[0m\u001b[0;34m\u001b[0m\u001b[0;34m\u001b[0m\u001b[0m\n\u001b[0;32m---> 13\u001b[0;31m                 \u001b[0mself\u001b[0m\u001b[0;34m.\u001b[0m\u001b[0mus_handle\u001b[0m\u001b[0;34m,\u001b[0m \u001b[0mself\u001b[0m\u001b[0;34m.\u001b[0m\u001b[0mvision_handle\u001b[0m\u001b[0;34m,\u001b[0m \u001b[0mself\u001b[0m\u001b[0;34m.\u001b[0m\u001b[0mlaser_handle\u001b[0m \u001b[0;34m=\u001b[0m \u001b[0mself\u001b[0m\u001b[0;34m.\u001b[0m\u001b[0mstart_sensors\u001b[0m\u001b[0;34m(\u001b[0m\u001b[0;34m)\u001b[0m\u001b[0;34m\u001b[0m\u001b[0;34m\u001b[0m\u001b[0m\n\u001b[0m\u001b[1;32m     14\u001b[0m                 \u001b[0mself\u001b[0m\u001b[0;34m.\u001b[0m\u001b[0mmotors_handle\u001b[0m \u001b[0;34m=\u001b[0m \u001b[0mself\u001b[0m\u001b[0;34m.\u001b[0m\u001b[0mstart_motors\u001b[0m\u001b[0;34m(\u001b[0m\u001b[0;34m)\u001b[0m\u001b[0;34m\u001b[0m\u001b[0;34m\u001b[0m\u001b[0m\n\u001b[1;32m     15\u001b[0m                 \u001b[0mself\u001b[0m\u001b[0;34m.\u001b[0m\u001b[0mrobot_handle\u001b[0m \u001b[0;34m=\u001b[0m \u001b[0mself\u001b[0m\u001b[0;34m.\u001b[0m\u001b[0mstart_robot\u001b[0m\u001b[0;34m(\u001b[0m\u001b[0;34m)\u001b[0m\u001b[0;34m\u001b[0m\u001b[0;34m\u001b[0m\u001b[0m\n",
      "\u001b[0;32m~/git/MO651/P4/src/robot.py\u001b[0m in \u001b[0;36mstart_sensors\u001b[0;34m(self)\u001b[0m\n\u001b[1;32m     66\u001b[0m                 \u001b[0;32mfor\u001b[0m \u001b[0mi\u001b[0m \u001b[0;32min\u001b[0m \u001b[0mrange\u001b[0m\u001b[0;34m(\u001b[0m\u001b[0;36m0\u001b[0m\u001b[0;34m,\u001b[0m\u001b[0;36m16\u001b[0m\u001b[0;34m)\u001b[0m\u001b[0;34m:\u001b[0m\u001b[0;34m\u001b[0m\u001b[0;34m\u001b[0m\u001b[0m\n\u001b[1;32m     67\u001b[0m                         \u001b[0msensor_name\u001b[0m\u001b[0;34m.\u001b[0m\u001b[0mappend\u001b[0m\u001b[0;34m(\u001b[0m\u001b[0;34m\"Pioneer_p3dx_ultrasonicSensor\"\u001b[0m \u001b[0;34m+\u001b[0m \u001b[0mstr\u001b[0m\u001b[0;34m(\u001b[0m\u001b[0mi\u001b[0m\u001b[0;34m+\u001b[0m\u001b[0;36m1\u001b[0m\u001b[0;34m)\u001b[0m \u001b[0;34m+\u001b[0m \u001b[0mself\u001b[0m\u001b[0;34m.\u001b[0m\u001b[0mid\u001b[0m\u001b[0;34m)\u001b[0m\u001b[0;34m\u001b[0m\u001b[0;34m\u001b[0m\u001b[0m\n\u001b[0;32m---> 68\u001b[0;31m                         \u001b[0mres\u001b[0m\u001b[0;34m,\u001b[0m \u001b[0mhandle\u001b[0m \u001b[0;34m=\u001b[0m \u001b[0mvrep\u001b[0m\u001b[0;34m.\u001b[0m\u001b[0msimxGetObjectHandle\u001b[0m\u001b[0;34m(\u001b[0m\u001b[0mself\u001b[0m\u001b[0;34m.\u001b[0m\u001b[0mclientID\u001b[0m\u001b[0;34m,\u001b[0m \u001b[0msensor_name\u001b[0m\u001b[0;34m[\u001b[0m\u001b[0mi\u001b[0m\u001b[0;34m]\u001b[0m\u001b[0;34m,\u001b[0m \u001b[0mvrep\u001b[0m\u001b[0;34m.\u001b[0m\u001b[0msimx_opmode_oneshot_wait\u001b[0m\u001b[0;34m)\u001b[0m\u001b[0;34m\u001b[0m\u001b[0;34m\u001b[0m\u001b[0m\n\u001b[0m\u001b[1;32m     69\u001b[0m                         \u001b[0;32mif\u001b[0m\u001b[0;34m(\u001b[0m\u001b[0mres\u001b[0m \u001b[0;34m!=\u001b[0m \u001b[0mvrep\u001b[0m\u001b[0;34m.\u001b[0m\u001b[0msimx_return_ok\u001b[0m\u001b[0;34m)\u001b[0m\u001b[0;34m:\u001b[0m\u001b[0;34m\u001b[0m\u001b[0;34m\u001b[0m\u001b[0m\n\u001b[1;32m     70\u001b[0m                                 \u001b[0mprint\u001b[0m \u001b[0;34m(\u001b[0m\u001b[0;34m\"\\033[93m \"\u001b[0m\u001b[0;34m+\u001b[0m \u001b[0msensor_name\u001b[0m\u001b[0;34m[\u001b[0m\u001b[0mi\u001b[0m\u001b[0;34m]\u001b[0m \u001b[0;34m+\u001b[0m \u001b[0;34m\" not connected.\"\u001b[0m\u001b[0;34m)\u001b[0m\u001b[0;34m\u001b[0m\u001b[0;34m\u001b[0m\u001b[0m\n",
      "\u001b[0;32m~/git/MO651/P4/lib/vrep.py\u001b[0m in \u001b[0;36msimxGetObjectHandle\u001b[0;34m(clientID, objectName, operationMode)\u001b[0m\n\u001b[1;32m    261\u001b[0m     \u001b[0;32mif\u001b[0m \u001b[0;34m(\u001b[0m\u001b[0msys\u001b[0m\u001b[0;34m.\u001b[0m\u001b[0mversion_info\u001b[0m\u001b[0;34m[\u001b[0m\u001b[0;36m0\u001b[0m\u001b[0;34m]\u001b[0m \u001b[0;34m==\u001b[0m \u001b[0;36m3\u001b[0m\u001b[0;34m)\u001b[0m \u001b[0;32mand\u001b[0m \u001b[0;34m(\u001b[0m\u001b[0mtype\u001b[0m\u001b[0;34m(\u001b[0m\u001b[0mobjectName\u001b[0m\u001b[0;34m)\u001b[0m \u001b[0;32mis\u001b[0m \u001b[0mstr\u001b[0m\u001b[0;34m)\u001b[0m\u001b[0;34m:\u001b[0m\u001b[0;34m\u001b[0m\u001b[0;34m\u001b[0m\u001b[0m\n\u001b[1;32m    262\u001b[0m         \u001b[0mobjectName\u001b[0m\u001b[0;34m=\u001b[0m\u001b[0mobjectName\u001b[0m\u001b[0;34m.\u001b[0m\u001b[0mencode\u001b[0m\u001b[0;34m(\u001b[0m\u001b[0;34m'utf-8'\u001b[0m\u001b[0;34m)\u001b[0m\u001b[0;34m\u001b[0m\u001b[0;34m\u001b[0m\u001b[0m\n\u001b[0;32m--> 263\u001b[0;31m     \u001b[0;32mreturn\u001b[0m \u001b[0mc_GetObjectHandle\u001b[0m\u001b[0;34m(\u001b[0m\u001b[0mclientID\u001b[0m\u001b[0;34m,\u001b[0m \u001b[0mobjectName\u001b[0m\u001b[0;34m,\u001b[0m \u001b[0mct\u001b[0m\u001b[0;34m.\u001b[0m\u001b[0mbyref\u001b[0m\u001b[0;34m(\u001b[0m\u001b[0mhandle\u001b[0m\u001b[0;34m)\u001b[0m\u001b[0;34m,\u001b[0m \u001b[0moperationMode\u001b[0m\u001b[0;34m)\u001b[0m\u001b[0;34m,\u001b[0m \u001b[0mhandle\u001b[0m\u001b[0;34m.\u001b[0m\u001b[0mvalue\u001b[0m\u001b[0;34m\u001b[0m\u001b[0;34m\u001b[0m\u001b[0m\n\u001b[0m\u001b[1;32m    264\u001b[0m \u001b[0;34m\u001b[0m\u001b[0m\n\u001b[1;32m    265\u001b[0m \u001b[0;32mdef\u001b[0m \u001b[0msimxGetVisionSensorImage\u001b[0m\u001b[0;34m(\u001b[0m\u001b[0mclientID\u001b[0m\u001b[0;34m,\u001b[0m \u001b[0msensorHandle\u001b[0m\u001b[0;34m,\u001b[0m \u001b[0moptions\u001b[0m\u001b[0;34m,\u001b[0m \u001b[0moperationMode\u001b[0m\u001b[0;34m)\u001b[0m\u001b[0;34m:\u001b[0m\u001b[0;34m\u001b[0m\u001b[0;34m\u001b[0m\u001b[0m\n",
      "\u001b[0;31mKeyboardInterrupt\u001b[0m: "
     ]
    }
   ],
   "source": [
    "robot = Robot(\"#0\")\n",
    "\n",
    "goal = np.array([(13,0), (-13,0)])\n",
    "i = 0\n",
    "\n",
    "score = 0\n",
    "\n",
    "while robot.get_connection_status() != -1:\n",
    "    us_distances = robot.read_ultrassonic_sensors()\n",
    "\n",
    "    current_position = np.array(robot.get_current_position()[:-1])\n",
    "    current_angle = cicle(robot.get_current_orientation()[2])\n",
    "    \n",
    "    state_gtg = get_state_go_to_goal(current_position, current_angle, goal[i])\n",
    "    state_ao = get_state_avoid_obstacle(us_distances)\n",
    "    \n",
    "    flag = False\n",
    "    for j in us_distances[:8]:\n",
    "        flag = flag or (j < 0.5)\n",
    "\n",
    "    if not flag:\n",
    "        vel = actions[get_action_go_to_goal(Q_gtg, state_gtg, random_rate_gtg)]\n",
    "    else:\n",
    "        vel = actions[get_action_avoid_obstacle(Q_ao, state_ao, random_rate_ao)]\n",
    "\n",
    "    robot.set_left_velocity(vel[0] * 2)\n",
    "    robot.set_right_velocity(vel[1] * 2)\n",
    "    time.sleep(0.1)\n",
    "    \n",
    "    if get_distance_from_goal(current_position, goal[i]) < 0.3:\n",
    "        i = (i + 1) % 2\n",
    "        score += 1\n"
   ]
  },
  {
   "cell_type": "code",
   "execution_count": null,
   "metadata": {},
   "outputs": [],
   "source": []
  }
 ],
 "metadata": {
  "kernelspec": {
   "display_name": "Python 3",
   "language": "python",
   "name": "python3"
  },
  "language_info": {
   "codemirror_mode": {
    "name": "ipython",
    "version": 3
   },
   "file_extension": ".py",
   "mimetype": "text/x-python",
   "name": "python",
   "nbconvert_exporter": "python",
   "pygments_lexer": "ipython3",
   "version": "3.7.3"
  }
 },
 "nbformat": 4,
 "nbformat_minor": 2
}
