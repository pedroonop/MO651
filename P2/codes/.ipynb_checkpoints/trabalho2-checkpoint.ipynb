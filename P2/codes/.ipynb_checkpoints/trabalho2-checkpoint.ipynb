{
 "cells": [
  {
   "cell_type": "markdown",
   "metadata": {},
   "source": [
    "# MO651 - Robótica Móvel - Trabalho 01\n",
    "### Equipe: \n",
    "* Carlos Victor - RA: 230261\n",
    "* Daiane Mendes - RA: 230210\n",
    "* João Paulo - RA: 230221\n",
    "* Pedro Olímpio - RA: 230256\n",
    "\n",
    "\n",
    "## Introdução\n",
    "Em diversos cenários dentro da área de estudo da Robótica Móvel são necessários comportamento autônomos dos robôs. Neste trabalho apresentamos técnicas de evitar colisão e imobilização do robô com obstáculos (*Avoid Obstacles*), técnicas de exploração do ambiente mantendo a rota paralela e próxima das paredes do ambiente (*Wall Follow*) e técnicas de alcance de pontos específicos do cenário (*Go to Goal*).\n",
    "\n",
    "As técnicas implementadas foram executadas em um ambiente simulado usando o simulador v-rep com o robô Pioneer 3-DX."
   ]
  },
  {
   "cell_type": "markdown",
   "metadata": {},
   "source": [
    "## Metodologia\n",
    "As seguir descreveremos a métodologia utilizada desenvolver os sistemas propostos."
   ]
  },
  {
   "cell_type": "markdown",
   "metadata": {},
   "source": [
    "### Célula para inclusão de bibliotecas\n",
    "Na célula a seguir são incluidas as bibliotecas utilizadas no trabalho. A biblioteca *skfuzzy* é utilizada para operações em lógica fuzzy. A biblioteca *robot* no diretório \"../src\" faz a integração com a simulação."
   ]
  },
  {
   "cell_type": "code",
   "execution_count": 1,
   "metadata": {
    "colab": {},
    "colab_type": "code",
    "id": "-Y505bsGX0_m"
   },
   "outputs": [],
   "source": [
    "import sys, time, random, math, cv2\n",
    "import numpy as np\n",
    "from matplotlib import pyplot as plt\n",
    "import skfuzzy as fuzz\n",
    "from skfuzzy import control as ctrl\n",
    "\n",
    "sys.path.insert(0, '../src')\n",
    "from robot import Robot"
   ]
  },
  {
   "cell_type": "markdown",
   "metadata": {},
   "source": [
    "### Cálculo da Odometria"
   ]
  },
  {
   "cell_type": "code",
   "execution_count": 2,
   "metadata": {
    "colab": {},
    "colab_type": "code",
    "id": "BycEOUApfXqJ"
   },
   "outputs": [],
   "source": [
    "def calculate_delta(begin, end, spinOrient):\n",
    "    if math.isclose(float(end), float(begin), abs_tol=0.00001):\n",
    "        return 0\n",
    "    end = (limit + end) % limit\n",
    "    begin = (limit + begin) % limit\n",
    "\n",
    "    ans = abs(end - begin)\n",
    "    if spinOrient:\n",
    "        if begin < end:\n",
    "            return limit - ans\n",
    "        return ans\n",
    "    if begin > end:\n",
    "        return limit - ans\n",
    "    return ans\n",
    "\n",
    "def calculate_speed(time, clockwiseSpin, lastEncoder, motorHandle):\n",
    "    encoder = robot.get_joint_position(motorHandle)\n",
    "    delta = calculate_delta(lastEncoder, encoder, clockwiseSpin)\n",
    "    \n",
    "    lastEncoder = encoder\n",
    "    if delta > math.pi:\n",
    "        delta = (2 * math.pi) - delta\n",
    "        clockwiseSpin = not clockwiseSpin\n",
    "    \n",
    "    speed = 0.0975 * (delta/time)\n",
    "    if(clockwiseSpin):\n",
    "        return -speed, clockwiseSpin, lastEncoder\n",
    "    \n",
    "    return speed, clockwiseSpin, lastEncoder\n",
    "\n",
    "def to180Universe(alpha):\n",
    "    alpha = alpha % (2 * math.pi)\n",
    "    if alpha > math.pi:\n",
    "        return alpha - (2 * math.pi)\n",
    "    return alpha\n",
    "\n",
    "def to360Universe(alpha):\n",
    "    if alpha < 0:\n",
    "        return (2 * math.pi) + alpha\n",
    "    return alpha\n",
    "\n",
    "def add_angle(alpha, beta):\n",
    "    angle = to360Universe(alpha) + to360Universe(beta)\n",
    "    return to180Universe(angle)\n",
    "\n",
    "def new_position(alpha, x, y):\n",
    "    global lastTime\n",
    "    global lastEncoderL, lastEncoderR\n",
    "    global clockwiseSpinL, clockwiseSpinR\n",
    "    \n",
    "    now = time.time()\n",
    "    dtime = now-lastTime\n",
    "    lastTime = now\n",
    "    \n",
    "    vL, clockwiseSpinL, lastEncoderL = calculate_speed(dtime, clockwiseSpinL, lastEncoderL, 'left')\n",
    "    vR, clockwiseSpinR, lastEncoderR = calculate_speed(dtime, clockwiseSpinR, lastEncoderR, 'right')\n",
    "    \n",
    "    w = (vR-vL)/0.36205\n",
    "    v = (vR + vL)/2.0\n",
    "    \n",
    "    dAlpha = w*dtime\n",
    "    dL = vL*dtime\n",
    "    dR = vR*dtime\n",
    "    dM = (dL+dR)/2.0\n",
    "    dX = dM*math.cos(add_angle(alpha, dAlpha/2.0))\n",
    "    dY = dM*math.sin(add_angle(alpha, dAlpha/2.0))\n",
    "    return x+dX, y+dY, add_angle(alpha, dAlpha)\n",
    "\n",
    "def plot_odometry_vs_GT(path, path_odometry):\n",
    "    _, ax = plt.subplots(figsize=(9, 9))\n",
    "    ax.plot(path_odometry[:,0], path_odometry[:,1], label = 'Odometry')\n",
    "    ax.plot(path[:,0], path[:,1], label = 'Ground Truth')\n",
    "    ax.grid(True)\n",
    "    ax.legend(loc='best')\n",
    "    plt.xlabel(\"x\")\n",
    "    plt.ylabel(\"y\")\n",
    "    plt.title('Odometry x Ground Truth')\n",
    "    plt.savefig('odometry'+'.png') \n",
    "#     plt.show()"
   ]
  },
  {
   "cell_type": "markdown",
   "metadata": {},
   "source": [
    "### Go to Goal com PID\n",
    "Essa classe foi definida para direcionar o robô para uma posição objetivo, usando o controlador PID (Proportional + Integral + Derivative).  A ideia é que dado a posição atual do robô, o ângulo atual e a posição objetivo, será calculado uma velocidade para a roda esquerda e para roda direita, de modo a controlar e direcionar o robô para a posição objetivo.\n",
    "\n",
    "Inicialmente são definidas constantes de limiar de erro e dos coeficientes proporcional (Kp), integral (Ki) e derivado (Kd). Além disso, são declaradas variáveis para guardar o erro acumulado, o erro atual e o erro anterior. Foram declarados dois tipos de erros e dois tipos de coeficientes, um de acordo com a posição e outro com o ângulo.\n",
    "\n",
    "Ao chamar a função go_to_goal_PID, passando a posição atual do robô, o ângulo atual e a posição objetivo. De início, é checado se o erro do ângulo é menor que o limiar e em caso afirmativo, é calculado o novo error angular e se o robô ainda estiver distante da posição objetivo é chamado a função para calcular a nova velocidade das rodas esquerda e direita, considerando as variáveis de posição. Caso contrário, é realizado o cálculo da nova velocidade considerando as variáveis do ângulo. Em ambos os métodos a ideia seguida é do modelo de controlador PID (visto em aula). \n",
    "\n",
    "Um esquema do modelo de controlador PID pode ser visto na imagem a seguir. A ideia é que o controlador PID leva em conta o que aconteceu, o que está acontecendo e o que provavelmente acontecerá, e combina essas coisas para produzir o novo valor para controlar o robô.\n",
    "\n",
    "<img src=\"../imgs/PID.png\">\n",
    "\n",
    "A imagem a seguir mostra um exemplo de uma rota tomada pelo robô para chegar no destino (vaso com plantas).\n",
    "\n",
    "<img src=\"../imgs/goToGoalPID.png\">\n",
    "\n"
   ]
  },
  {
   "cell_type": "code",
   "execution_count": 3,
   "metadata": {},
   "outputs": [],
   "source": [
    "class GoToGoalPID():\n",
    "    epsilonA = 25\n",
    "    KpA = 1.5\n",
    "    KiA = KpA / 10.0\n",
    "    KdA = KpA * 5\n",
    "    epsilonP = 0.01\n",
    "    KpP = 0.7\n",
    "    KdP = KpP * 5\n",
    "    \n",
    "    def __init__(self):\n",
    "        self.errorA = self.epsilonA\n",
    "        self.oldErrorA = 0\n",
    "        self.accErrorA = 0\n",
    "        self.errorP = self.epsilonP\n",
    "        self.oldErrorP = 0\n",
    "    \n",
    "    def calcule_norm_angle(self, angle):\n",
    "        return angle % (2*math.pi)\n",
    "\n",
    "    def calcule_x1_y1_angle(self, position, angle, goal):\n",
    "        x1 = position[0] - goal[0]\n",
    "        y1 = position[1] - goal[1]\n",
    "        angle = self.calcule_norm_angle(angle)\n",
    "        return x1, y1, angle\n",
    "\n",
    "    def calcule_errorA(self, position, angle, goal):\n",
    "        x1, y1, angle = self.calcule_x1_y1_angle(position, angle, goal)\n",
    "        goalAngle = self.calcule_norm_angle(math.pi + math.atan2(y1, x1))\n",
    "        self.errorA = math.atan2(math.sin(goalAngle-angle), math.cos(goalAngle-angle))\n",
    "\n",
    "    def calcule_go_to_position(self, position, angle, goal):\n",
    "        x1, y1, angle = self.calcule_x1_y1_angle(position, angle, goal)\n",
    "        goalAngle = self.calcule_norm_angle(math.pi + math.atan2(y1, x1))\n",
    "        deltaA = math.degrees(math.atan2(math.sin(goalAngle-angle), math.cos(goalAngle-angle)))\n",
    "        sig = -1 if abs(deltaA) > 100 else 1\n",
    "\n",
    "        self.errorP = sig * math.sqrt( ((goal[0]-position[0])**2) + ((goal[1]-position[1])**2) )\n",
    "        diffErrorP = self.errorP - self.oldErrorP\n",
    "        u = (self.KpP * self.errorP) + (self.KdP * diffErrorP)\n",
    "        self.oldErrorP = self.errorP\n",
    "        return [u,u]\n",
    "\n",
    "\n",
    "    def calcule_go_to_angle(self, position, angle, goal):\n",
    "        self.calcule_errorA(position, angle, goal)\n",
    "        self.accErrorA = self.accErrorA + self.errorA\n",
    "        diffErrorA = self.errorA - self.oldErrorA\n",
    "        u = (self.KpA * self.errorA) + (self.KiA * self.accErrorA) + (self.KdA * diffErrorA)\n",
    "        self.oldErrorA = self.errorA\n",
    "        return [u,-u]\n",
    "\n",
    "\n",
    "    def go_to_goal_PID(self, position, angle, goal):\n",
    "        if abs(math.degrees(self.errorA)) < self.epsilonA:\n",
    "            self.calcule_errorA(position, angle, goal)\n",
    "            if abs(self.errorP) >= self.epsilonP:\n",
    "                return self.calcule_go_to_position(position, angle, goal)\n",
    "            else:\n",
    "                return [0,0]\n",
    "        else:\n",
    "            return self.calcule_go_to_angle(position, angle, goal)\n",
    "\n"
   ]
  },
  {
   "cell_type": "markdown",
   "metadata": {},
   "source": [
    "### Wall Follow com Fuzzy\n",
    "\n",
    "A função followWall é responsável por fazer o robô movimentar-se seguindo as paredes do cenário utilizando a lógica Fuzzy.\n",
    "\n",
    "A ideia desta função é fazer o robô reagir a três tipos de situações diferentes. A primeira delas, é quando o robô não possui nenhum objeto no seu campo de sensores. Neste caso, o robô segue em frente, até que seu sensor frontal capture algum objeto (assumindo como uma parede). Posteriormente, estando muito próximo de algum objeto com seu sensor frontal, o robô vira à esquerda até seu sensor frontal estar livre e, depois disso, segue em frente. Ademais, quando o robô chega ao final da lateral da parede que está sendo percorrida, dois casos podem acontecer:\n",
    "\n",
    "**Caso 1**: existe uma outra parede em frente ao robô. Neste caso, ele deve virar novamente à esquerda e seguir em frente;\n",
    "\n",
    "<img src=\"../imgs/caso1.jpg\">\n",
    "\n",
    "**Caso 2**: não existe uma outra parede em frente ao robô. Neste caso, a parede que está sendo percorrida continua à direita e, por esse motivo, o robô deve virar à direita até que seu sensor frontal capture levemente a presença desta nova parede, para que ele possa continuar o seu destino.\n",
    "\n",
    "<img src=\"../imgs/caso2.jpg\">\n",
    "\n",
    "Definições para a lógica Fuzzy.\n",
    "\n",
    "**Antecedentes**: o distRight é o antecedente responsável por elencar a distância do sensor 6 do robô. Ele possui 4 níveis de distância, que são: very-close, quando o sensor está muito próximo de algum obstáculo; close, quando o robô encontra-se em uma distância relativamente próxima, com possibilidade de colisão; medium, que indica que possivelmente o robô está se aproximando de um obstáculo; away, que indica que não há nenhum obstáculo próximo ao robô.\n",
    "\n",
    "**Consequentes**: três tipos diferentes de ação podem ser tomadas pelo robô, de acordo com o movimento que ele precisa fazer. No caso que ele deve seguir em frente, ambas as velocidades de suas rodas devem estar positivas e iguais. No caso que ele precisa virar à esquerda, sua roda esquerda deve estar com uma velocidade negativa e sua roda direita deve estar com o módulo desta velocidade. Finalmente, no caso em que o robô vira à direita, a velocidade da roda direita deve ser a metade da roda esquerda, pois o robô não pode parar de andar para frente para realizar a curva que permite que ele continue acompanhando a parede.\n",
    "\n",
    "Por esse motivo, seis consequentes foram definidos. Quatro são responsáveis pelas velocidades das rodas, tanto positivas quanto negativas, para os casos em que o robô deve seguir reto ou virar à esquerda. Os outros dois consequentes, são definidos de modo a colocar a velocidade da roda direita com a metade da velocidade da roda da esquerda, para contemplar o caso faltante.\n",
    "\n",
    "O conjunto de regras está definido com três regras principais, e são aplicadas duas vezes: uma vez para a roda esquerda e outra vez para a roda esquerda.\n",
    "\n",
    "A primeira regra seta a velocidade da roda esquerda como negativa e a velocidade da roda direita como positiva, para, deste modo, o robô virar à esquerda. Ela acontece quando o sensor \"right sensor\" está com o atributo \"very-close\". A segunda regra faz o robô realizar a curva à direita. Elá é acionada quando o robô não captura nada a sua frente e também quando o sensor da direita está captando a parede. Finalmente, a terceira regra coloca a velocidade das duas rodas como positivas, para o robo andar para frente, quando ambos os sensores não estão captando nenhum objeto próximo.\n",
    "\n"
   ]
  },
  {
   "cell_type": "code",
   "execution_count": 4,
   "metadata": {},
   "outputs": [],
   "source": [
    "def followWall(rightSensor, auxSensor):\n",
    "    defaultVelocity = 1\n",
    "    minDist = 0.0\n",
    "    maxDist = 6.0\n",
    "    interval = 0.1\n",
    "\n",
    "    # Definicao dos antecedentes\n",
    "    distAux = ctrl.Antecedent(np.arange(minDist, maxDist, interval), 'aux dist')\n",
    "    distRight = ctrl.Antecedent(np.arange(minDist, maxDist, interval), 'right dist')\n",
    "\n",
    "    # Definicao dos consequentes\n",
    "    velLeftWheel = ctrl.Consequent(np.arange(-defaultVelocity, defaultVelocity + 1.0, interval), 'vel left wheel')\n",
    "    velRightWheel = ctrl.Consequent(np.arange(-defaultVelocity, defaultVelocity + 1.0, interval), 'vel right wheel')\n",
    "\n",
    "    distRight['very-close'] = fuzz.trimf(distRight.universe, [0.0, 0.2, 0.4])\n",
    "    distRight['close'] = fuzz.trimf(distRight.universe, [0.3, 0.5, 0.7])\n",
    "    distRight['medium'] = fuzz.trimf(distRight.universe, [0.6, 1.0, 1.4])\n",
    "    distRight['away'] = fuzz.trimf(distRight.universe, [1.3, 6.0, 6.0])\n",
    "\n",
    "    distAux['very-close'] = fuzz.trimf(distAux.universe, [0, 0.2, 0.4])\n",
    "    distAux['close'] = fuzz.trimf(distAux.universe, [0.3, 0.5, 0.7])\n",
    "    distAux['medium'] = fuzz.trimf(distAux.universe, [0.6, 1.0, 1.4])\n",
    "    distAux['away'] = fuzz.trimf(distAux.universe, [1.3, 6.0, 6.0])\n",
    "\n",
    "    velLeftWheel['positive'] = fuzz.trimf(velLeftWheel.universe, [0.0, defaultVelocity, defaultVelocity])\n",
    "    velLeftWheel['negative'] = fuzz.trimf(velLeftWheel.universe, [-defaultVelocity, -defaultVelocity, 0.0])\n",
    "\n",
    "    velRightWheel['positive'] = fuzz.trimf(velRightWheel.universe, [0.0, defaultVelocity, defaultVelocity])\n",
    "    velRightWheel['negative'] = fuzz.trimf(velRightWheel.universe, [-defaultVelocity, -defaultVelocity, 0.0])\n",
    "\n",
    "    velLeftWheel['positive-right'] = fuzz.trimf(velLeftWheel.universe, [0.0, defaultVelocity, defaultVelocity])\n",
    "    velRightWheel['positive-right'] = fuzz.trimf(velRightWheel.universe, [-defaultVelocity+0.6, -defaultVelocity+0.6, 0.0])\n",
    "\n",
    "    # Regras\n",
    "    rules = {}\n",
    "\n",
    "    rules['turn left1'] = ctrl.Rule(distRight['very-close'], velLeftWheel['negative'])\n",
    "    rules['turn left2'] = ctrl.Rule(distRight['very-close'], velRightWheel['positive'])\n",
    "\n",
    "    rules['turn right1'] = ctrl.Rule(distRight['away'] & (distAux['very-close'] | distAux['close']),\n",
    "                                     velLeftWheel['positive-right'])\n",
    "    rules['turn right2'] = ctrl.Rule(distRight['away'] & (distAux['very-close'] | distAux['close']),\n",
    "                                                          velRightWheel['positive-right'])\n",
    "\n",
    "    rules['forward1'] = ctrl.Rule((distRight['close']\n",
    "                                      | distRight['medium']\n",
    "                                      | distRight['away']), velRightWheel['positive'])\n",
    "    rules['forward2'] = ctrl.Rule((distRight['close']\n",
    "                                       | distRight['medium']\n",
    "                                       | distRight['away']), velLeftWheel['positive'])\n",
    "\n",
    "    runSimulation = ctrl.ControlSystem([rules[key] for key in rules])\n",
    "    startSimulation = ctrl.ControlSystemSimulation(runSimulation)\n",
    "\n",
    "    startSimulation.input['right dist'] = rightSensor\n",
    "    startSimulation.input['aux dist'] = auxSensor\n",
    "\n",
    "    startSimulation.compute()\n",
    "\n",
    "    return startSimulation.output['vel left wheel'], startSimulation.output['vel right wheel']\n"
   ]
  },
  {
   "cell_type": "markdown",
   "metadata": {},
   "source": [
    "### Go to Goal com Fuzzy\n",
    "\n",
    "A função goToGoal foi implementada utilizando lógica Fuzzy e será responsável pela movimentação do robô a partir do eu ponto inicial até um ponto destino no cenário. \n",
    "\n",
    "A ideia desta função é fazer o robô rotaciona em direção ao ponto destino e ir seguindo em frente naquela direção, podendo efetuar algumas rotações de menor velocidade ao longo do caminho a ser percorrido.\n",
    "\n",
    "As definições para a lógica Fuzzy que foram feitas são as seguintes:\n",
    "\n",
    "**Antecedentes**: O 'distance' é o antecedente responsável por elencar a distância da localização atual do robô para o ponto objetivo. Ele possui 4 níveis de distância, que são: 'none', quando robô está no ponto destino; 'small', quando o robô encontra-se em uma distância relativamente próxima do ponto objetivo; 'medium', que indica uma distância maior que 'small'; 'big', indica uma distância grande, podendo assim aumentar a velocidade do robô ao máximo.\n",
    "\n",
    "O 'angular distance' é o antecedente responsável por elencar o valor de rotação que deve ser feito para o robô estar na direção correta do ponto objetivo. Possui 4 níveis de rotação: 'small from left', que indica uma rotação a esquerda com movimento em ambas as rodas; 'smaller from left' se trata de uma rotação mais lenta e sutil à esquerda, com movimento apenas em uma roda. 'small from right' e 'smaller from right' se tratam das mesmas definições, agora aplicadas para a direta, ao invés de esquerda. \n",
    "\n",
    "**Consequentes**: as ações a serem tomadas se tratam da velocidade que será aplicada em cada roda do robô. Aumentar a velocidade em uma das rodas e reduzir na outra faz com que ele efetue uma curva mais sutil. Parar uma roda e setar uma velocidade positiva na outra roda fará o robô girar no próprio eixo. Manter as duas rodas com mesma velocidade faz com que o robô siga reto em uma direção. \n",
    "\n",
    "O conjunto de regras está definido com três conjuntos de regras principais que se aplicam as rodas direita e esquerda, simultaneamente.\n",
    "\n",
    "A primeira regra seta a velocidade das rodas esquerda e direita como zero, ou seja, o robô atingiu seu destino. As regras dois e três são utilizadas para distâncias longas do ponto atual do robô para o objetivo, onde o mesmo irá efetuar curvas com velocidade em ambas as rodas (maior velocidade na roda inversa á direção da curva). Regras quatro e cinco se tratam de rotação no próprio eixo do robô, ou seja, uma roda parada e outra com velocidade baixa, essa regra se aplica predominantemente quando o robô está bem próximo na posição objetivo. As regras seis e sete são para seguir o objetivo, se o robô estiver distante e na direção correta, pode-se adicionar velocidade máxima em ambas as rodas, enquanto se a distâncias do objetivo for menor, é necessário que haja uma diminuição da velocidade.  \n",
    "\n"
   ]
  },
  {
   "cell_type": "code",
   "execution_count": 5,
   "metadata": {},
   "outputs": [],
   "source": [
    "class GoToGoalFuzzy():\n",
    "    def __init__(self):\n",
    "        ## Antecedents ##\n",
    "        # Distance in meters\n",
    "        distance = ctrl.Antecedent(np.arange(0, 20, 0.5), 'distance')\n",
    "\n",
    "        # Angular distance\n",
    "        angular_distance = ctrl.Antecedent(np.arange(0, 360, 1), 'angular distance') \n",
    "\n",
    "        ## Consequents ##\n",
    "        # Velocity on the right wheel\n",
    "        right_wheel = ctrl.Consequent(np.arange(0, 4, 0.5), 'right wheel speed')\n",
    "        # Velocity on the left wheel\n",
    "        left_wheel = ctrl.Consequent(np.arange(0, 4, 0.5), 'left wheel speed') \n",
    "\n",
    "        ## Memberships distance functions ##\n",
    "        distance['none'] = fuzz.trimf(distance.universe, [0, 0, 0.15])\n",
    "        distance['small'] = fuzz.trimf(distance.universe, [0, 0.2, 0.8])\n",
    "        distance['medium'] = fuzz.trapmf(distance.universe, [0.7, 1.5, 2, 3])\n",
    "        distance['big'] = fuzz.trapmf(distance.universe, [2.5, 5, 20, 20])\n",
    "\n",
    "        ## Angular ##\n",
    "        angular_distance['small from left'] = fuzz.trimf(angular_distance.universe, [0, 0, 15]) # diferença angular pequena pela esquerda\n",
    "        angular_distance['smaller from left'] = fuzz.trapmf(angular_distance.universe, [0, 0, 179, 180])\n",
    "        angular_distance['smaller from right'] = fuzz.trapmf(angular_distance.universe, [180, 181, 359, 360])\n",
    "        angular_distance['small from right'] = fuzz.trimf(angular_distance.universe, [345, 360, 360])\n",
    "\n",
    "        ## Right wheel ##\n",
    "        right_wheel['zero'] = fuzz.trimf(right_wheel.universe, [0, 0, 0])\n",
    "        right_wheel['low'] = fuzz.trimf(right_wheel.universe, [0, 0, 1.5])\n",
    "        right_wheel['high'] = fuzz.trapmf(right_wheel.universe, [1, 2, 4, 4])\n",
    "\n",
    "        ## Left wheel ##\n",
    "        left_wheel['zero'] = fuzz.trimf(left_wheel.universe, [0, 0, 0])\n",
    "        left_wheel['low'] = fuzz.trimf(left_wheel.universe, [0, 0, 1.5])\n",
    "        left_wheel['high'] = fuzz.trapmf(left_wheel.universe, [1, 2, 4, 4])\n",
    "\n",
    "        # Rules\n",
    "        rules = []\n",
    "\n",
    "        # Stop\n",
    "        rules.append(ctrl.Rule(distance['none'], [right_wheel['zero'],  left_wheel['zero']]))\n",
    "\n",
    "        # Turn\n",
    "        rules.append(ctrl.Rule((distance['big'] | distance['medium']) & angular_distance['smaller from left'] & (~angular_distance['small from left']), [right_wheel['high'], left_wheel['low']] ))\n",
    "\n",
    "        rules.append(ctrl.Rule((distance['big'] | distance['medium']) & angular_distance['smaller from right'] & (~angular_distance['small from right']), [right_wheel['low'],  left_wheel['high']]))\n",
    "\n",
    "        rules.append(ctrl.Rule(angular_distance['smaller from left'], [right_wheel['low'], left_wheel['zero']]))\n",
    "\n",
    "        rules.append(ctrl.Rule(angular_distance['smaller from right'], [right_wheel['zero'], left_wheel['low']]))\n",
    "\n",
    "        # Follow\n",
    "        rules.append(ctrl.Rule(angular_distance['small from right'] | angular_distance['small from left'], [right_wheel['high'], left_wheel['high']]))\n",
    "\n",
    "        rules.append(ctrl.Rule(distance['small'] & (angular_distance['small from right'] | angular_distance['small from left']), [right_wheel['low'], left_wheel['low']]))\n",
    "\n",
    "         # Control and simulation\n",
    "        self.goToGoal_ctrl = ctrl.ControlSystem(rules)\n",
    "        self.goToGoal_sim = ctrl.ControlSystemSimulation(self.goToGoal_ctrl)\n",
    "\n",
    "    def get_fuzzy_control(self, dist, ang_dist):\n",
    "        # Stop\n",
    "        if (dist <= 0.1):\n",
    "            return [0, 0, ]\n",
    "        else:\n",
    "            self.goToGoal_sim.input['distance'] = dist\n",
    "            self.goToGoal_sim.input['angular distance'] = ang_dist\n",
    "            self.goToGoal_sim.compute()\n",
    "            return [self.goToGoal_sim.output['right wheel speed'], self.goToGoal_sim.output['left wheel speed'],]\n",
    "\n",
    "def cicle(ang):\n",
    "    return (ang + 2 * math.pi) % (2*math.pi)\n",
    "\n",
    "def get_distance_from_goal(a,b):\n",
    "    return np.linalg.norm(a-b)\n",
    "\n",
    "def get_angular_distance(v1,v2):\n",
    "\n",
    "    v1_aux = v1 / np.linalg.norm(v1)\n",
    "    v2_aux = v2 / np.linalg.norm(v2)\n",
    "\n",
    "    theta = np.arccos(np.clip(np.dot(v1_aux, v2_aux), -1.0, 1.0))\n",
    "    rot_theta = np.array([[np.cos(theta),-np.sin(theta)],[np.sin(theta),np.cos(theta)]])\n",
    "    theta = theta*180.0/math.pi\n",
    "    theta = (360.0+theta)%360.0\n",
    "\n",
    "    if abs(np.dot(np.dot(rot_theta,v2_aux),v1_aux)-1.0) > 1e-2:\n",
    "        theta = 360.0 - theta\n",
    "\n",
    "    return theta\n",
    "\n",
    "def unit_vector(vector):\n",
    "    return vector / np.linalg.norm(vector)\n"
   ]
  },
  {
   "cell_type": "markdown",
   "metadata": {},
   "source": [
    "### Avoid Obstacles com Fuzzy\n",
    "Nessa célula as técnicas para evitar colisão com obstáculos são implementadas. Além de colisão, é indesejável que o robô fique imobilizado por objetos do cenário.\n",
    "\n",
    "Utilizamos a o controlador da biblioteca SciKit Fuzzy para gerenciar as regras no ambiente fuzzy. As entradas do modelo fuzzy são dados como Antecedentes (ou *Antecedent*) e as saídas como Consequentes (ou *Consequent*). São criadas regras para associar os Antecedentes com os Consequentes.\n",
    "\n",
    "Existem três dados necessários como **Antecedentes**, que são as medições dos três sensores frontais, um frontal esquerdo, um frontral direito e um último frontal central. A medição para o sensor frontal utilizada é o mínimo dos dois sensores frontais do robô Pioneer 3-DX. Esses dados são então classificados em dois conjuntos fuzzy: **perto** (ou *near*) e **longe** (ou *far*).\n",
    "\n",
    "Existem duas informações dadas como saída do modelo fuzzy através dos **Consequentes**: a velocidade e a direção. O dado da velocidade pertence aos conjuntos **parado** (ou *no movement*), **lento** (ou *slow*) e **rápido** (ou *fast*). A direção pode pertencer aos conjuntos **esquerda** (ou *left*), **frente** (ou *forward*) ou **direita** (ou *right*).\n",
    "\n",
    "Com as informações obtidas pelos sensores, o robô decide qual a melhor ação a tomar para evitar obstáculos. O conjunto de regras usadas para isso são exibidos na tabela a seguir:\n",
    "\n",
    "| Regra |Sensor Esquerdo|Sensor Frontal|Sensor Direito|Velocidade|Direção|\n",
    "|-------|---------------|--------------|--------------|----------|-------|\n",
    "|1|perto|perto|perto|parado|esquerda|\n",
    "|2|longe|perto|longe|lento|frente|\n",
    "|3|perto|longe|perto|lento|frente|\n",
    "|4|longe|longe|longe|rápido|frente|\n",
    "|5|perto|perto|longe|lento|esquerda|\n",
    "|6|longe|perto|perto|lento|direita|\n",
    "|7|perto|longe|longe|rápido|frente|\n",
    "|8|longe|longe|perto|rápido|frente|\n",
    "\n"
   ]
  },
  {
   "cell_type": "code",
   "execution_count": 6,
   "metadata": {},
   "outputs": [],
   "source": [
    "ls = ctrl.Antecedent(np.arange(0,10.1,0.1), 'left sensor')\n",
    "fs = ctrl.Antecedent(np.arange(0,10.1,0.1), 'front sensors')\n",
    "rs = ctrl.Antecedent(np.arange(0,10.1,0.1), 'right sensor')\n",
    "\n",
    "ls['near'] = fuzz.trimf(ls.universe, [0, 0, 3])\n",
    "ls['far'] = fuzz.trapmf(ls.universe, [0, 3, 10, 10])\n",
    "\n",
    "fs['near'] = fuzz.trimf(fs.universe, [0, 0, 3])\n",
    "fs['far'] = fuzz.trapmf(ls.universe, [0, 3, 10, 10])\n",
    "\n",
    "rs['near'] = fuzz.trimf(rs.universe, [0, 0, 3])\n",
    "rs['far'] = fuzz.trapmf(ls.universe, [0, 3, 10, 10])\n",
    "\n",
    "f_vel = ctrl.Consequent(np.arange(0, 11, 1), 'velocity')\n",
    "f_angle = ctrl.Consequent(np.arange(-2,2,0.1), 'angle')\n",
    "\n",
    "f_vel['no movement'] = fuzz.trimf(f_vel.universe, [0, 0, 3])\n",
    "f_vel['slow'] = fuzz.trimf(f_vel.universe, [0, 3, 6])\n",
    "f_vel['fast'] = fuzz.trapmf(f_vel.universe, [3, 6, 10, 10])\n",
    "\n",
    "f_angle['left'] = fuzz.trimf(f_angle.universe, [-2, -2, 0])\n",
    "f_angle['forward'] = fuzz.trimf(f_angle.universe, [-0.2, 0, 0.2])\n",
    "f_angle['right'] = fuzz.trimf(f_angle.universe, [0, 2, 2])\n",
    "\n",
    "rules = []\n",
    "rules.append(ctrl.Rule(ls['near'] & fs['near'] & rs['near'], [f_vel['no movement'], f_angle['left']]))\n",
    "rules.append(ctrl.Rule(ls['far'] & fs['near'] & rs['far'], [f_vel['slow'], f_angle['forward']]))\n",
    "rules.append(ctrl.Rule(ls['near'] & fs['far'] & rs['near'], [f_vel['slow'], f_angle['forward']]))\n",
    "rules.append(ctrl.Rule(ls['far'] & fs['far'] & rs['far'], [f_vel['fast'], f_angle['forward']]))\n",
    "\n",
    "rules.append(ctrl.Rule(ls['near'] & fs['near'] & rs['far'], [f_vel['slow'], f_angle['left']]))\n",
    "rules.append(ctrl.Rule(ls['far'] & fs['near'] & rs['near'], [f_vel['slow'], f_angle['right']]))\n",
    "\n",
    "rules.append(ctrl.Rule(ls['near'] & fs['far'] & rs['far'], [f_vel['fast'], f_angle['forward']]))\n",
    "rules.append(ctrl.Rule(ls['far'] & fs['far'] & rs['near'], [f_vel['fast'], f_angle['forward']]))\n",
    "\n",
    "def avoid_obstacles(sensors):\n",
    "    avoid_ctrl = ctrl.ControlSystem(rules)\n",
    "    avoid = ctrl.ControlSystemSimulation(avoid_ctrl)\n",
    "    \n",
    "    avoid.input['left sensor'] = sensors[2]\n",
    "    avoid.input['front sensors'] = min(sensors[3], sensors[4])\n",
    "    avoid.input['right sensor'] = sensors[5]\n",
    "    \n",
    "    avoid.compute()\n",
    "    \n",
    "    vel = avoid.output['velocity']\n",
    "    angle = avoid.output['angle']\n",
    "    \n",
    "#    return [(1 + min(0, angle)) * vel, (1 - max(0, angle)) * vel]\n",
    "    return [(1 - max(0, angle)) * vel, (1 + min(0, angle)) * vel]\n",
    "    "
   ]
  },
  {
   "cell_type": "code",
   "execution_count": 7,
   "metadata": {
    "colab": {},
    "colab_type": "code",
    "id": "FrlA5sInX0_4",
    "outputId": "d97cb755-676e-4f56-febf-7e4da0640cf2",
    "scrolled": true
   },
   "outputs": [],
   "source": [
    "noDetectionDist = 0.7\n",
    "defaultVelocity = 1\n",
    "noDetectionDistDiag = 0.4"
   ]
  },
  {
   "cell_type": "markdown",
   "metadata": {},
   "source": [
    "### Loop Avoid Obstacle com Fuzzy"
   ]
  },
  {
   "cell_type": "code",
   "execution_count": 8,
   "metadata": {
    "colab": {},
    "colab_type": "code",
    "id": "WIqFqL6zfZOf"
   },
   "outputs": [
    {
     "data": {
      "text/plain": [
       "'robot = Robot()\\n\\nwhile(robot.get_connection_status() != -1):\\n    us_distances = robot.read_ultrassonic_sensors()\\n    (left_vel, right_vel) = avoid_obstacles(us_distances)\\n    \\n    robot.set_left_velocity(left_vel)\\n    robot.set_right_velocity(right_vel)\\n'"
      ]
     },
     "execution_count": 8,
     "metadata": {},
     "output_type": "execute_result"
    }
   ],
   "source": [
    "robot = Robot()\n",
    "\n",
    "while(robot.get_connection_status() != -1):\n",
    "    us_distances = robot.read_ultrassonic_sensors()\n",
    "    (left_vel, right_vel) = avoid_obstacles(us_distances)\n",
    "    \n",
    "    robot.set_left_velocity(left_vel)\n",
    "    robot.set_right_velocity(right_vel)"
   ]
  },
  {
   "cell_type": "markdown",
   "metadata": {},
   "source": [
    "### Loop Go to Goal com PID"
   ]
  },
  {
   "cell_type": "code",
   "execution_count": 9,
   "metadata": {},
   "outputs": [
    {
     "data": {
      "text/plain": [
       "\"robot = Robot()\\n\\nlimit = 2*math.pi\\nlastTime=time.time()\\nclockwiseSpinL = False\\nclockwiseSpinR = False\\nlastEncoderL = robot.get_joint_position('left')\\nlastEncoderR = robot.get_joint_position('right')\\n\\nposition = robot.get_current_position()\\norientation = robot.get_current_orientation()\\n\\nalpha = orientation[2]\\nx = position[0]\\ny = position[1]\\n\\n\\ngoal = np.array([3.32, -1.8])\\ngoToGoalPID = GoToGoalPID()\\n\\npath = []\\npath_odometry = []\\nwhile(robot.get_connection_status() != -1):\\n    angle = robot.get_current_orientation()[2]\\n    position = robot.get_current_position()    \\n    \\n    vGoToPID = goToGoalPID.go_to_goal_PID(position, angle, goal)\\n    \\n    robot.set_left_velocity(vGoToPID[1])\\n    robot.set_right_velocity(vGoToPID[0])\\n\\n    # Odometria\\n    x, y, alpha = new_position(alpha, x, y)\\n    path.append([-position[1], position[0]])\\n    path_odometry.append([-y, x])\\n\\n\""
      ]
     },
     "execution_count": 9,
     "metadata": {},
     "output_type": "execute_result"
    }
   ],
   "source": [
    "robot = Robot()\n",
    "\n",
    "limit = 2*math.pi\n",
    "lastTime=time.time()\n",
    "clockwiseSpinL = False\n",
    "clockwiseSpinR = False\n",
    "lastEncoderL = robot.get_joint_position('left')\n",
    "lastEncoderR = robot.get_joint_position('right')\n",
    "\n",
    "position = robot.get_current_position()\n",
    "orientation = robot.get_current_orientation()\n",
    "\n",
    "alpha = orientation[2]\n",
    "x = position[0]\n",
    "y = position[1]\n",
    "\n",
    "\n",
    "goal = np.array([3.32, -1.8])\n",
    "goToGoalPID = GoToGoalPID()\n",
    "\n",
    "path = []\n",
    "path_odometry = []\n",
    "while(robot.get_connection_status() != -1):\n",
    "    angle = robot.get_current_orientation()[2]\n",
    "    position = robot.get_current_position()    \n",
    "    \n",
    "    vGoToPID = goToGoalPID.go_to_goal_PID(position, angle, goal)\n",
    "    \n",
    "    robot.set_left_velocity(vGoToPID[1])\n",
    "    robot.set_right_velocity(vGoToPID[0])\n",
    "\n",
    "    # Odometria\n",
    "    x, y, alpha = new_position(alpha, x, y)\n",
    "    path.append([-position[1], position[0]])\n",
    "    path_odometry.append([-y, x])\n"
   ]
  },
  {
   "cell_type": "markdown",
   "metadata": {},
   "source": [
    "### Loop Wall Follow com Fuzzy"
   ]
  },
  {
   "cell_type": "code",
   "execution_count": 10,
   "metadata": {},
   "outputs": [
    {
     "data": {
      "text/plain": [
       "'\\nrobot = Robot()\\n\\ndefaultVelocity = 1\\nminDist = 0.0\\nmaxDist = 6.0\\ninterval = 0.1\\n\\nwhile (robot.get_connection_status() != -1):\\n    us_distances = robot.read_ultrassonic_sensors()\\n    vel = followWall(us_distances[5], us_distances[7])\\n    \\n    robot.set_left_velocity(vel[0] * 4)\\n    robot.set_right_velocity(vel[1] * 4)\\n'"
      ]
     },
     "execution_count": 10,
     "metadata": {},
     "output_type": "execute_result"
    }
   ],
   "source": [
    "robot = Robot()\n",
    "\n",
    "defaultVelocity = 1\n",
    "minDist = 0.0\n",
    "maxDist = 6.0\n",
    "interval = 0.1\n",
    "\n",
    "while (robot.get_connection_status() != -1):\n",
    "    us_distances = robot.read_ultrassonic_sensors()\n",
    "    vel = followWall(us_distances[5], us_distances[7])\n",
    "    \n",
    "    robot.set_left_velocity(vel[0] * 4)\n",
    "    robot.set_right_velocity(vel[1] * 4)\n"
   ]
  },
  {
   "cell_type": "markdown",
   "metadata": {},
   "source": [
    "### Loop Go to Goal com Fuzzy"
   ]
  },
  {
   "cell_type": "code",
   "execution_count": 11,
   "metadata": {},
   "outputs": [
    {
     "data": {
      "text/plain": [
       "'robot = Robot()\\n\\ngoal = np.array([2.77, -2.92])\\ngoToGoalFuzzy = GoToGoalFuzzy()\\n\\nwhile(robot.get_connection_status() != -1):\\n    # Include the goal\\n    \\n    current_position = np.array(robot.get_current_position()[:-1])\\n    current_angle = cicle(robot.get_current_orientation()[2])\\n    distance = get_distance_from_goal(current_position, goal)\\n    angle_distance = get_angular_distance(goal - current_position, np.array([math.cos(current_angle),math.sin(current_angle)])) # graus\\n\\n    vel = goToGoalFuzzy.get_fuzzy_control(distance, angle_distance)\\n    robot.set_right_velocity(vel[0])\\n    robot.set_left_velocity(vel[1])\\n'"
      ]
     },
     "execution_count": 11,
     "metadata": {},
     "output_type": "execute_result"
    }
   ],
   "source": [
    "robot = Robot()\n",
    "\n",
    "goal = np.array([2.77, -2.92])\n",
    "goToGoalFuzzy = GoToGoalFuzzy()\n",
    "\n",
    "while(robot.get_connection_status() != -1):\n",
    "    # Include the goal\n",
    "    \n",
    "    current_position = np.array(robot.get_current_position()[:-1])\n",
    "    current_angle = cicle(robot.get_current_orientation()[2])\n",
    "    distance = get_distance_from_goal(current_position, goal)\n",
    "    angle_distance = get_angular_distance(goal - current_position, np.array([math.cos(current_angle),math.sin(current_angle)])) # graus\n",
    "\n",
    "    vel = goToGoalFuzzy.get_fuzzy_control(distance, angle_distance)\n",
    "    robot.set_right_velocity(vel[0])\n",
    "    robot.set_left_velocity(vel[1])\n"
   ]
  },
  {
   "cell_type": "markdown",
   "metadata": {},
   "source": [
    "### Loop Go to Goal mais Avoid Obstacle com Fuzzy\n",
    "\n",
    "O algoritmo nessa célula faz o robô se movimentar até o ponto alvo evitando obstáculos no meio do caminho. Para isso as técnicas de Go to Goal e Avoid Obstacle são integradas, fazendo que o robô se aproxime do destinho sempre que não houver obstáculos próximos e os evite caso contrário."
   ]
  },
  {
   "cell_type": "code",
   "execution_count": 12,
   "metadata": {},
   "outputs": [
    {
     "name": "stdout",
     "output_type": "stream",
     "text": [
      "Connected to remoteApi server.\n",
      "\u001b[92m Pioneer_p3dx_ultrasonicSensor1 connected.\n",
      "\u001b[92m Pioneer_p3dx_ultrasonicSensor2 connected.\n",
      "\u001b[92m Pioneer_p3dx_ultrasonicSensor3 connected.\n",
      "\u001b[92m Pioneer_p3dx_ultrasonicSensor4 connected.\n",
      "\u001b[92m Pioneer_p3dx_ultrasonicSensor5 connected.\n",
      "\u001b[92m Pioneer_p3dx_ultrasonicSensor6 connected.\n",
      "\u001b[92m Pioneer_p3dx_ultrasonicSensor7 connected.\n",
      "\u001b[92m Pioneer_p3dx_ultrasonicSensor8 connected.\n",
      "\u001b[92m Pioneer_p3dx_ultrasonicSensor9 connected.\n",
      "\u001b[92m Pioneer_p3dx_ultrasonicSensor10 connected.\n",
      "\u001b[92m Pioneer_p3dx_ultrasonicSensor11 connected.\n",
      "\u001b[92m Pioneer_p3dx_ultrasonicSensor12 connected.\n",
      "\u001b[92m Pioneer_p3dx_ultrasonicSensor13 connected.\n",
      "\u001b[92m Pioneer_p3dx_ultrasonicSensor14 connected.\n",
      "\u001b[92m Pioneer_p3dx_ultrasonicSensor15 connected.\n",
      "\u001b[92m Pioneer_p3dx_ultrasonicSensor16 connected.\n",
      "\u001b[92m Vision sensor connected.\n",
      "\u001b[92m Laser connected.\n",
      "\u001b[92m Left motor connected.\n",
      "\u001b[92m Right motor connected.\n",
      "\u001b[92m Robot connected.\n"
     ]
    }
   ],
   "source": [
    "robot = Robot()\n",
    "\n",
    "goal = np.array([2.77, 2])\n",
    "goToGoalFuzzy = GoToGoalFuzzy()\n",
    "\n",
    "position = robot.get_current_position()\n",
    "orientation = robot.get_current_orientation()\n",
    "\n",
    "while(robot.get_connection_status() != -1):\n",
    "    \n",
    "    current_position = np.array(robot.get_current_position()[:-1])\n",
    "    current_angle = cicle(robot.get_current_orientation()[2])\n",
    "    distance = get_distance_from_goal(current_position, goal)\n",
    "    angle_distance = get_angular_distance(goal - current_position, np.array([math.cos(current_angle),math.sin(current_angle)])) # graus\n",
    "\n",
    "    vel = goToGoalFuzzy.get_fuzzy_control(distance, angle_distance)\n",
    "    \n",
    "    us_distances = robot.read_ultrassonic_sensors()\n",
    "\n",
    "    vel_ = avoid_obstacles(us_distances)\n",
    "    \n",
    "    flag = False\n",
    "    for i in us_distances[:8]:\n",
    "        flag = flag or (i < noDetectionDist)\n",
    "    \n",
    "    if (flag):\n",
    "        robot.set_left_velocity(vel_[0])\n",
    "        robot.set_right_velocity(vel_[1])\n",
    "    else:\n",
    "        robot.set_left_velocity(vel[1] * 2)\n",
    "        robot.set_right_velocity(vel[0] * 2)\n",
    "\n"
   ]
  },
  {
   "cell_type": "code",
   "execution_count": 13,
   "metadata": {},
   "outputs": [
    {
     "data": {
      "text/plain": [
       "'if(len(path) > 0):\\n    path = np.array(path)\\n    path_odometry = np.array(path_odometry)\\n\\n    difx = path[1,0] - path_odometry[1,0]\\n    dify = path[1,1] - path_odometry[1,1]\\n    path_odometry[:,0] = path_odometry[:,0]+difx\\n    path_odometry[:,1] = path_odometry[:,1]+dify\\n\\n    plot_odometry_vs_GT(path, path_odometry)'"
      ]
     },
     "execution_count": 13,
     "metadata": {},
     "output_type": "execute_result"
    }
   ],
   "source": [
    "'''if(len(path) > 0):\n",
    "    path = np.array(path)\n",
    "    path_odometry = np.array(path_odometry)\n",
    "\n",
    "    difx = path[1,0] - path_odometry[1,0]\n",
    "    dify = path[1,1] - path_odometry[1,1]\n",
    "    path_odometry[:,0] = path_odometry[:,0]+difx\n",
    "    path_odometry[:,1] = path_odometry[:,1]+dify\n",
    "\n",
    "    plot_odometry_vs_GT(path, path_odometry)'''"
   ]
  },
  {
   "cell_type": "markdown",
   "metadata": {},
   "source": [
    "## Resultados\n",
    "\n",
    "O vídeo a seguir (disponível em https://github.com/pedroonop/MO651/blob/master/P2/videos/FullVideo.mp4) mostra a simulação com a aplicação de cada um dos métodos mostrados. Primeiramente o vídeo mostra o robô seguindo em direção a um ponto de destino (vaso com plantas) usando as técnicas de Go to Goal com PID e o mesmo é feito usando técnicas de Go to Goal com lógica Fuzzy. Em seguida mostra o robô explorando o ambiente usando técnicas de Wall Follow com lógica Fuzzy. Depois mostra o robô explorando o ambiente evitando obstáculos usabdo técnicas de Avoid Obstacle com lógica Fuzzy. Por fim o vídeo mostra o robô indo para um determinado ponto do cenário evitando obstáculo usando técnicas de Go to Goal e Avoid Obstacle.\n",
    "\n",
    "Nota-se que o robô consegue chegar no ponto objetivo nos experimentos com as técnicas de *Go to Goal* executadas. Quando aplicado o algoritmo de *Wall Follow* o robô contorna toda a sala na qual está inserido, seguindo a parede. Na simulação com Avoid Obstacle o robô explora o ambiente sempre evitando obstáculos e escolhendo o melhor caminho para virar e seguir em frente. Ademais, quando simulado o algoritmo de alcançar um ponto objetivo com obstáculos no caminho, o robô evita os obstáculos e consegue alcançar o ponto objetivo.\n",
    "\n",
    "<video controls src=\"../videos/FullVideo.mp4\" style=\"width: 800px;\">\n"
   ]
  },
  {
   "cell_type": "markdown",
   "metadata": {},
   "source": [
    "Comparamos as técnicas do Go to Goal usando as informações de Ground Truth e a posição e orientação cálculados usando Odometria. As imagens a seguir mostram as rotas tomadas pelo robô em cada cenário. A rota em azul é aquela usando Ground Truth e em vermelho usando Odometria.\n",
    "\n",
    "<img src=\"../imgs/gtg+ao.jpg\">\n",
    "\n",
    "<img src=\"../imgs/gtg+ao_.png\">\n",
    "\n",
    "Em ambos os casos os pontos finais alcançados pelo robô coincidem com o ponto objetivo, mesmo existindo obstáculos no caminho. "
   ]
  },
  {
   "cell_type": "markdown",
   "metadata": {},
   "source": [
    "## Conclusão\n",
    "\n",
    "Neste trabalho implementamos com sucesso técnicas de *Avoid Obstacles*, *Wall Follow* e *Go to Goal* (até mesmo usando cálculos de Odometria para obter localização e orientação do robô) para o ambiente simulado."
   ]
  }
 ],
 "metadata": {
  "colab": {
   "collapsed_sections": [
    "y67tHqDsYXIb",
    "BvAkMvB8Ybj7",
    "ExpKqXyShsML",
    "K1nCWEI6lCfQ",
    "yadl9LG0sew7",
    "eOu-6EpnuaMz",
    "ozy3LwXUzVBv"
   ],
   "name": "trabalho1.ipynb",
   "provenance": []
  },
  "kernelspec": {
   "display_name": "Python 3",
   "language": "python",
   "name": "python3"
  },
  "language_info": {
   "codemirror_mode": {
    "name": "ipython",
    "version": 3
   },
   "file_extension": ".py",
   "mimetype": "text/x-python",
   "name": "python",
   "nbconvert_exporter": "python",
   "pygments_lexer": "ipython3",
   "version": "3.7.3"
  }
 },
 "nbformat": 4,
 "nbformat_minor": 1
}
